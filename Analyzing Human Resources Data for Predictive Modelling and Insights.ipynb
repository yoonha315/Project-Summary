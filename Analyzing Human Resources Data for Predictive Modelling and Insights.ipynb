{
  "nbformat": 4,
  "nbformat_minor": 0,
  "metadata": {
    "colab": {
      "provenance": [],
      "authorship_tag": "ABX9TyMAuspTi30QMVv1l6uueqsu",
      "include_colab_link": true
    },
    "kernelspec": {
      "name": "ir",
      "display_name": "R"
    },
    "language_info": {
      "name": "R"
    }
  },
  "cells": [
    {
      "cell_type": "markdown",
      "metadata": {
        "id": "view-in-github",
        "colab_type": "text"
      },
      "source": [
        "<a href=\"https://colab.research.google.com/github/yoonha315/Project-Summary/blob/main/Analyzing%20Human%20Resources%20Data%20for%20Predictive%20Modelling%20and%20Insights.ipynb\" target=\"_parent\"><img src=\"https://colab.research.google.com/assets/colab-badge.svg\" alt=\"Open In Colab\"/></a>"
      ]
    },
    {
      "cell_type": "markdown",
      "source": [
        "# Introduction\n",
        "In this project, we aim to investigate the potential statistical significance of interaction effects observed between \"Age\" and \"EducationField\" in predicting the \"MonthlyIncome\" of employees through a multiple linear regression model. We will also consider the effects from Total Working Years, Department,\n",
        "and Job level in out analysis. This question interests us as students about to enter the workfoce. It also coincides with questions such as those asked by Statisitcs Canada, as to weather or not it is beneficail for an older worker to go back to school, as found in this artilce. This study's significance stems\n",
        "from the practical implications it could have for human resource management and organizational development. The dataset utilized comprises information on 1,470 employees, encompassing 35 distinct attributes. For this analysis, we have selected the following key variables:\n",
        "* Age (Continuous): This represents the age of the employee, which could play a pivotal role in determining their experience level, career progression, and consequently, their monthly income.\n",
        "* JobLevel (Categorical): This variable indicates the level of the job within the company hierarchy, categorized from 1 to 5. Job level can be a reflection of an employee's seniority, responsibilities, and earning potential.\n",
        "* TotalWorkingYears (Continuous): This denotes the total number of years an employee has been working. It serves as an indicator of an individual's professional experience, which can directly influence their earning capacity.\n",
        "* Department (Categorical): The department to which an employee belongs can have implications on their role, specialization, and consequently, their monthly income. The dataset includes departments like Sales, Research & Development, and Human Resources among others.\n",
        "* EducationField (Categorical): This variable specifies the field of education pursued by the employee, such as Life Sciences, Medical, Marketing, Technical Degree, Human Resources, or Other. Education can significantly impact an individual's skill set, qualifications, and career trajectory, thereby affecting their earning potential.\n",
        "\n",
        "By examining these selected variables, which encompass both continuous and categorical data, we aim to gain insights into the factors influencing employee monthly income and discern any significant interaction effects between age and education field. We are particuraly intersted in the relation between\n",
        "Monthly Income and Age. An atricle from bloomberg.com claims that pay for older worker has increased by 69% in recent years, yet there is still a gap in pay bewtween the age groups. We are curious to see if we can find a similar result.\n",
        "This investigation holds substantial relevance for human resource strategies and organizational planning, potentially guiding decisions related to employee compensation, career development, and talent management."
      ],
      "metadata": {
        "id": "3zG9G_ulUz4h"
      }
    },
    {
      "cell_type": "markdown",
      "source": [
        "## Dataset Description:\n",
        "This dataset contains information about employees within a company. This data was simulated, and does not reflect a real world sample. Any results found in this report should be taken with caution due to this fact. Each row represents a single employee, and each column represents different attributes or\n",
        "features associated with that employee.\n",
        "* Number of observations (rows): 1470\n",
        "* Number of variables (columns): 35"
      ],
      "metadata": {
        "id": "nY8IjWqoVVWJ"
      }
    },
    {
      "cell_type": "markdown",
      "source": [
        "### Summary of Variables:\n",
        "| Variable               | Type         | Description                                               | Levels                                                   |\n",
        "|------------------------|-------------|-----------------------------------------------------------|----------------------------------------------------------|\n",
        "| Age                    | Continuous  | Age of the employee                                       |                                                          |\n",
        "| Attrition              | Categorical | Indicates whether the employee has left the company      | True, False                                             |\n",
        "| BusinessTravel         | Categorical | Frequency of business travel                             | Travel_Rarely, Travel_Frequently, Non-Travel           |\n",
        "| DailyRate              | Continuous  | Daily wage of the employee                               |                                                          |\n",
        "| Department             | Categorical | Department the employee belongs to                      | Sales, Research & Development, Human Resources         |\n",
        "| DistanceFromHome       | Continuous  | Distance from home to work (in KM)                      |                                                          |\n",
        "| Education              | Categorical | Level of education of the employee                      | 1, 2, 3, 4, 5                                           |\n",
        "| EducationField         | Categorical | Field of education of the employee                      | Life Sciences, Medical, Marketing, Technical Degree, Human Resources, Other |\n",
        "| EmployeeCount          | Numerical   | Count of employees                                      | all 1s                                                  |\n",
        "| EmployeeNumber         | Continuous  | Number of employees                                     |                                                          |\n",
        "| EnvironmentSatisfaction | Categorical | Level of satisfaction with the work environment        | 1, 2, 3, 4                                             |\n",
        "| Gender                | Categorical | Gender of the employee                                  | Male, Female                                           |\n",
        "| HourlyRate            | Continuous  | Hourly rate of the employee                            |                                                          |\n",
        "| JobInvolvement        | Categorical | Level of job involvement                               | 1, 2, 3, 4                                             |\n",
        "| JobLevel              | Categorical | Level of the job in the company hierarchy              | 1, 2, 3, 4, 5                                          |\n",
        "| JobRole               | Categorical | Role of the employee within the company                | Sales Executive, Research Scientist, Laboratory Technician, Manufacturing Director, Healthcare Representative, Manager, Sales Representative, Research Director, Human Resources |\n",
        "| JobSatisfaction       | Categorical | Level of job satisfaction                              | 1, 2, 3, 4                                             |\n",
        "| MaritalStatus         | Categorical | Marital status of the employee                         | Single, Married, Divorced                              |\n",
        "| MonthlyIncome         | Continuous  | Monthly income of the employee                         |                                                          |\n",
        "| MonthlyRate           | Continuous  | Monthly rate of the employee                          |                                                          |\n",
        "| NumCompaniesWorked    | Continuous  | Number of companies the employee has worked for       |                                                          |\n",
        "| Over18               | Categorical | Indicates whether the employee is over 18 years old   | all Ys                                                 |\n",
        "| OverTime             | Categorical | Indicates whether the employee works overtime         | Yes, No                                                |\n",
        "| PercentSalaryHike    | Continuous  | Percentage increase in salary                         |                                                          |\n",
        "| PerformanceRating    | Categorical | Performance rating of the employee                    | 3, 4                                                   |\n",
        "| RelationshipSatisfaction | Categorical | Level of satisfaction with relationships at work     | 1, 2, 3, 4                                             |\n",
        "| StandardHours        | Numerical   | Standard number of work hours                         | all 80s                                                |\n",
        "| StockOptionLevel     | Categorical | Level of stock options the employee has              | 0, 1, 2, 3                                             |\n",
        "| TotalWorkingYears    | Continuous  | Total number of years the employee has been working  |                                                          |\n",
        "| TrainingTimesLastYear| Continuous  | Number of training sessions attended last year       |                                                          |\n",
        "| WorkLifeBalance      | Categorical | Work-life balance satisfaction                       | 1, 2, 3, 4                                             |\n",
        "| YearsAtCompany       | Continuous  | Number of years the employee has been with the company |                                                          |\n",
        "| YearsInCurrentRole   | Continuous  | Number of years the employee has been in the current role |                                                          |\n",
        "| YearsSinceLastPromotion | Continuous | Number of years since the employee's last promotion |                                                          |\n",
        "| YearsWithCurrManager | Continuous  | Number of years the employee has been with their current manager |                                                          |\n"
      ],
      "metadata": {
        "id": "QyzpOV4IXUm4"
      }
    },
    {
      "cell_type": "markdown",
      "source": [
        "### Question:\n",
        "Is there any statistical significance in the interaction effects observed in the multiple linear regression model between MonthlyIncome and the predictors Age, Job Level, Total Working Years, Department, and Education Field?\n",
        "\n",
        "### Explanation:\n",
        "1. Response Variable: MonthlyIncome : The monthly income of an employee.\n",
        "2. Explanatory Variables:\n",
        "* Age : The age of the employee.\n",
        "* JobLevel : The level of the job in the company hierarchy.\n",
        "* TotalWorkingYears : The total number of years the employee has been working.\n",
        "* YearsAtCompany : The number of years the employee has been with the company.\n",
        "* Department : The department the employee belongs to.\n",
        "* EducationField : The field of education of the employee.\n",
        "Through multiple linear regression analysis, the objective is to explore interaction terms allows us to investigate whether the impact of each variable on income is depends on other variables.\n",
        "\n",
        "### Focus:\n",
        "The question involves inference. We aim to infer whether there are interactions between these variables and how they collectively affect income. This helps in understanding the subtle relationships between various factors and income levels within the dataset."
      ],
      "metadata": {
        "id": "_pvgjFm_VlIm"
      }
    },
    {
      "cell_type": "markdown",
      "source": [
        "# Methods and Results"
      ],
      "metadata": {
        "id": "nfuicotLV0H6"
      }
    },
    {
      "cell_type": "code",
      "source": [
        "install.packages(\"dplyr\")\n",
        "install.packages(\"ggplot2\")\n",
        "install.packages(\"GGally\")\n",
        "install.packages(\"reshape2\")\n",
        "install.packages(\"broom\")\n",
        "\n",
        "library(dplyr)\n",
        "library(ggplot2)\n",
        "library(GGally)\n",
        "library(reshape2)\n",
        "library(broom)"
      ],
      "metadata": {
        "id": "WJUfWbzsZPok",
        "outputId": "27c44a08-b81f-4983-e298-0f972bb9a0a9",
        "colab": {
          "base_uri": "https://localhost:8080/"
        }
      },
      "execution_count": null,
      "outputs": [
        {
          "output_type": "stream",
          "name": "stderr",
          "text": [
            "Installing package into ‘/usr/local/lib/R/site-library’\n",
            "(as ‘lib’ is unspecified)\n",
            "\n",
            "Installing package into ‘/usr/local/lib/R/site-library’\n",
            "(as ‘lib’ is unspecified)\n",
            "\n",
            "Installing package into ‘/usr/local/lib/R/site-library’\n",
            "(as ‘lib’ is unspecified)\n",
            "\n",
            "also installing the dependencies ‘patchwork’, ‘ggstats’, ‘plyr’\n",
            "\n",
            "\n"
          ]
        }
      ]
    },
    {
      "cell_type": "markdown",
      "source": [
        "## Exploratory Data Analysis and Visualization"
      ],
      "metadata": {
        "id": "r6y8R912WTIQ"
      }
    },
    {
      "cell_type": "code",
      "source": [
        "data <- read.csv(\"https://raw.githubusercontent.com/EPICxFLIPPER/STAT301Data/main/HR-Employee-Attrition.csv\")\n",
        "head(data)"
      ],
      "metadata": {
        "id": "VHCK2ohAWnYb",
        "outputId": "4fff2a91-2454-4781-8e49-a16294ee7bb1",
        "colab": {
          "base_uri": "https://localhost:8080/",
          "height": 393
        }
      },
      "execution_count": 6,
      "outputs": [
        {
          "output_type": "display_data",
          "data": {
            "text/html": [
              "<table class=\"dataframe\">\n",
              "<caption>A data.frame: 6 × 35</caption>\n",
              "<thead>\n",
              "\t<tr><th></th><th scope=col>Age</th><th scope=col>Attrition</th><th scope=col>BusinessTravel</th><th scope=col>DailyRate</th><th scope=col>Department</th><th scope=col>DistanceFromHome</th><th scope=col>Education</th><th scope=col>EducationField</th><th scope=col>EmployeeCount</th><th scope=col>EmployeeNumber</th><th scope=col>⋯</th><th scope=col>RelationshipSatisfaction</th><th scope=col>StandardHours</th><th scope=col>StockOptionLevel</th><th scope=col>TotalWorkingYears</th><th scope=col>TrainingTimesLastYear</th><th scope=col>WorkLifeBalance</th><th scope=col>YearsAtCompany</th><th scope=col>YearsInCurrentRole</th><th scope=col>YearsSinceLastPromotion</th><th scope=col>YearsWithCurrManager</th></tr>\n",
              "\t<tr><th></th><th scope=col>&lt;int&gt;</th><th scope=col>&lt;chr&gt;</th><th scope=col>&lt;chr&gt;</th><th scope=col>&lt;int&gt;</th><th scope=col>&lt;chr&gt;</th><th scope=col>&lt;int&gt;</th><th scope=col>&lt;int&gt;</th><th scope=col>&lt;chr&gt;</th><th scope=col>&lt;int&gt;</th><th scope=col>&lt;int&gt;</th><th scope=col>⋯</th><th scope=col>&lt;int&gt;</th><th scope=col>&lt;int&gt;</th><th scope=col>&lt;int&gt;</th><th scope=col>&lt;int&gt;</th><th scope=col>&lt;int&gt;</th><th scope=col>&lt;int&gt;</th><th scope=col>&lt;int&gt;</th><th scope=col>&lt;int&gt;</th><th scope=col>&lt;int&gt;</th><th scope=col>&lt;int&gt;</th></tr>\n",
              "</thead>\n",
              "<tbody>\n",
              "\t<tr><th scope=row>1</th><td>41</td><td>Yes</td><td>Travel_Rarely    </td><td>1102</td><td>Sales                 </td><td>1</td><td>2</td><td>Life Sciences</td><td>1</td><td>1</td><td>⋯</td><td>1</td><td>80</td><td>0</td><td> 8</td><td>0</td><td>1</td><td> 6</td><td>4</td><td>0</td><td>5</td></tr>\n",
              "\t<tr><th scope=row>2</th><td>49</td><td>No </td><td>Travel_Frequently</td><td> 279</td><td>Research &amp; Development</td><td>8</td><td>1</td><td>Life Sciences</td><td>1</td><td>2</td><td>⋯</td><td>4</td><td>80</td><td>1</td><td>10</td><td>3</td><td>3</td><td>10</td><td>7</td><td>1</td><td>7</td></tr>\n",
              "\t<tr><th scope=row>3</th><td>37</td><td>Yes</td><td><span style=white-space:pre-wrap>Travel_Rarely    </span></td><td>1373</td><td>Research &amp; Development</td><td>2</td><td>2</td><td><span style=white-space:pre-wrap>Other        </span></td><td>1</td><td>4</td><td>⋯</td><td>2</td><td>80</td><td>0</td><td> 7</td><td>3</td><td>3</td><td> 0</td><td>0</td><td>0</td><td>0</td></tr>\n",
              "\t<tr><th scope=row>4</th><td>33</td><td>No </td><td>Travel_Frequently</td><td>1392</td><td>Research &amp; Development</td><td>3</td><td>4</td><td>Life Sciences</td><td>1</td><td>5</td><td>⋯</td><td>3</td><td>80</td><td>0</td><td> 8</td><td>3</td><td>3</td><td> 8</td><td>7</td><td>3</td><td>0</td></tr>\n",
              "\t<tr><th scope=row>5</th><td>27</td><td>No </td><td><span style=white-space:pre-wrap>Travel_Rarely    </span></td><td> 591</td><td>Research &amp; Development</td><td>2</td><td>1</td><td><span style=white-space:pre-wrap>Medical      </span></td><td>1</td><td>7</td><td>⋯</td><td>4</td><td>80</td><td>1</td><td> 6</td><td>3</td><td>3</td><td> 2</td><td>2</td><td>2</td><td>2</td></tr>\n",
              "\t<tr><th scope=row>6</th><td>32</td><td>No </td><td>Travel_Frequently</td><td>1005</td><td>Research &amp; Development</td><td>2</td><td>2</td><td>Life Sciences</td><td>1</td><td>8</td><td>⋯</td><td>3</td><td>80</td><td>0</td><td> 8</td><td>2</td><td>2</td><td> 7</td><td>7</td><td>3</td><td>6</td></tr>\n",
              "</tbody>\n",
              "</table>\n"
            ],
            "text/markdown": "\nA data.frame: 6 × 35\n\n| <!--/--> | Age &lt;int&gt; | Attrition &lt;chr&gt; | BusinessTravel &lt;chr&gt; | DailyRate &lt;int&gt; | Department &lt;chr&gt; | DistanceFromHome &lt;int&gt; | Education &lt;int&gt; | EducationField &lt;chr&gt; | EmployeeCount &lt;int&gt; | EmployeeNumber &lt;int&gt; | ⋯ ⋯ | RelationshipSatisfaction &lt;int&gt; | StandardHours &lt;int&gt; | StockOptionLevel &lt;int&gt; | TotalWorkingYears &lt;int&gt; | TrainingTimesLastYear &lt;int&gt; | WorkLifeBalance &lt;int&gt; | YearsAtCompany &lt;int&gt; | YearsInCurrentRole &lt;int&gt; | YearsSinceLastPromotion &lt;int&gt; | YearsWithCurrManager &lt;int&gt; |\n|---|---|---|---|---|---|---|---|---|---|---|---|---|---|---|---|---|---|---|---|---|---|\n| 1 | 41 | Yes | Travel_Rarely     | 1102 | Sales                  | 1 | 2 | Life Sciences | 1 | 1 | ⋯ | 1 | 80 | 0 |  8 | 0 | 1 |  6 | 4 | 0 | 5 |\n| 2 | 49 | No  | Travel_Frequently |  279 | Research &amp; Development | 8 | 1 | Life Sciences | 1 | 2 | ⋯ | 4 | 80 | 1 | 10 | 3 | 3 | 10 | 7 | 1 | 7 |\n| 3 | 37 | Yes | Travel_Rarely     | 1373 | Research &amp; Development | 2 | 2 | Other         | 1 | 4 | ⋯ | 2 | 80 | 0 |  7 | 3 | 3 |  0 | 0 | 0 | 0 |\n| 4 | 33 | No  | Travel_Frequently | 1392 | Research &amp; Development | 3 | 4 | Life Sciences | 1 | 5 | ⋯ | 3 | 80 | 0 |  8 | 3 | 3 |  8 | 7 | 3 | 0 |\n| 5 | 27 | No  | Travel_Rarely     |  591 | Research &amp; Development | 2 | 1 | Medical       | 1 | 7 | ⋯ | 4 | 80 | 1 |  6 | 3 | 3 |  2 | 2 | 2 | 2 |\n| 6 | 32 | No  | Travel_Frequently | 1005 | Research &amp; Development | 2 | 2 | Life Sciences | 1 | 8 | ⋯ | 3 | 80 | 0 |  8 | 2 | 2 |  7 | 7 | 3 | 6 |\n\n",
            "text/latex": "A data.frame: 6 × 35\n\\begin{tabular}{r|lllllllllllllllllllll}\n  & Age & Attrition & BusinessTravel & DailyRate & Department & DistanceFromHome & Education & EducationField & EmployeeCount & EmployeeNumber & ⋯ & RelationshipSatisfaction & StandardHours & StockOptionLevel & TotalWorkingYears & TrainingTimesLastYear & WorkLifeBalance & YearsAtCompany & YearsInCurrentRole & YearsSinceLastPromotion & YearsWithCurrManager\\\\\n  & <int> & <chr> & <chr> & <int> & <chr> & <int> & <int> & <chr> & <int> & <int> & ⋯ & <int> & <int> & <int> & <int> & <int> & <int> & <int> & <int> & <int> & <int>\\\\\n\\hline\n\t1 & 41 & Yes & Travel\\_Rarely     & 1102 & Sales                  & 1 & 2 & Life Sciences & 1 & 1 & ⋯ & 1 & 80 & 0 &  8 & 0 & 1 &  6 & 4 & 0 & 5\\\\\n\t2 & 49 & No  & Travel\\_Frequently &  279 & Research \\& Development & 8 & 1 & Life Sciences & 1 & 2 & ⋯ & 4 & 80 & 1 & 10 & 3 & 3 & 10 & 7 & 1 & 7\\\\\n\t3 & 37 & Yes & Travel\\_Rarely     & 1373 & Research \\& Development & 2 & 2 & Other         & 1 & 4 & ⋯ & 2 & 80 & 0 &  7 & 3 & 3 &  0 & 0 & 0 & 0\\\\\n\t4 & 33 & No  & Travel\\_Frequently & 1392 & Research \\& Development & 3 & 4 & Life Sciences & 1 & 5 & ⋯ & 3 & 80 & 0 &  8 & 3 & 3 &  8 & 7 & 3 & 0\\\\\n\t5 & 27 & No  & Travel\\_Rarely     &  591 & Research \\& Development & 2 & 1 & Medical       & 1 & 7 & ⋯ & 4 & 80 & 1 &  6 & 3 & 3 &  2 & 2 & 2 & 2\\\\\n\t6 & 32 & No  & Travel\\_Frequently & 1005 & Research \\& Development & 2 & 2 & Life Sciences & 1 & 8 & ⋯ & 3 & 80 & 0 &  8 & 2 & 2 &  7 & 7 & 3 & 6\\\\\n\\end{tabular}\n",
            "text/plain": [
              "  Age Attrition BusinessTravel    DailyRate Department            \n",
              "1 41  Yes       Travel_Rarely     1102      Sales                 \n",
              "2 49  No        Travel_Frequently  279      Research & Development\n",
              "3 37  Yes       Travel_Rarely     1373      Research & Development\n",
              "4 33  No        Travel_Frequently 1392      Research & Development\n",
              "5 27  No        Travel_Rarely      591      Research & Development\n",
              "6 32  No        Travel_Frequently 1005      Research & Development\n",
              "  DistanceFromHome Education EducationField EmployeeCount EmployeeNumber ⋯\n",
              "1 1                2         Life Sciences  1             1              ⋯\n",
              "2 8                1         Life Sciences  1             2              ⋯\n",
              "3 2                2         Other          1             4              ⋯\n",
              "4 3                4         Life Sciences  1             5              ⋯\n",
              "5 2                1         Medical        1             7              ⋯\n",
              "6 2                2         Life Sciences  1             8              ⋯\n",
              "  RelationshipSatisfaction StandardHours StockOptionLevel TotalWorkingYears\n",
              "1 1                        80            0                 8               \n",
              "2 4                        80            1                10               \n",
              "3 2                        80            0                 7               \n",
              "4 3                        80            0                 8               \n",
              "5 4                        80            1                 6               \n",
              "6 3                        80            0                 8               \n",
              "  TrainingTimesLastYear WorkLifeBalance YearsAtCompany YearsInCurrentRole\n",
              "1 0                     1                6             4                 \n",
              "2 3                     3               10             7                 \n",
              "3 3                     3                0             0                 \n",
              "4 3                     3                8             7                 \n",
              "5 3                     3                2             2                 \n",
              "6 2                     2                7             7                 \n",
              "  YearsSinceLastPromotion YearsWithCurrManager\n",
              "1 0                       5                   \n",
              "2 1                       7                   \n",
              "3 0                       0                   \n",
              "4 3                       0                   \n",
              "5 2                       2                   \n",
              "6 3                       6                   "
            ]
          },
          "metadata": {}
        }
      ]
    },
    {
      "cell_type": "markdown",
      "source": [
        "### Reading the Data"
      ],
      "metadata": {
        "id": "d4brS-8tWU9L"
      }
    },
    {
      "cell_type": "code",
      "execution_count": 2,
      "metadata": {
        "id": "528kn7RH7N6N",
        "outputId": "1e1b49dc-f053-4776-ea95-7f5cdca26c7e",
        "colab": {
          "base_uri": "https://localhost:8080/",
          "height": 162
        }
      },
      "outputs": [
        {
          "output_type": "error",
          "ename": "NameError",
          "evalue": "name 'pd' is not defined",
          "traceback": [
            "\u001b[0;31m---------------------------------------------------------------------------\u001b[0m",
            "\u001b[0;31mNameError\u001b[0m                                 Traceback (most recent call last)",
            "\u001b[0;32m<ipython-input-2-791ad3940d23>\u001b[0m in \u001b[0;36m<cell line: 0>\u001b[0;34m()\u001b[0m\n\u001b[1;32m      1\u001b[0m \u001b[0murl\u001b[0m \u001b[0;34m=\u001b[0m \u001b[0;34m\"https://raw.githubusercontent.com/EPICxFLIPPER/STAT301Data/main/HR-Employee-Attrition.csv\"\u001b[0m\u001b[0;34m\u001b[0m\u001b[0;34m\u001b[0m\u001b[0m\n\u001b[0;32m----> 2\u001b[0;31m \u001b[0mdata\u001b[0m \u001b[0;34m=\u001b[0m \u001b[0mpd\u001b[0m\u001b[0;34m.\u001b[0m\u001b[0mread_csv\u001b[0m\u001b[0;34m(\u001b[0m\u001b[0murl\u001b[0m\u001b[0;34m)\u001b[0m\u001b[0;34m\u001b[0m\u001b[0;34m\u001b[0m\u001b[0m\n\u001b[0m",
            "\u001b[0;31mNameError\u001b[0m: name 'pd' is not defined"
          ]
        }
      ],
      "source": []
    },
    {
      "cell_type": "code",
      "source": [],
      "metadata": {
        "id": "Go4Ci3itWdr9"
      },
      "execution_count": null,
      "outputs": []
    }
  ]
}