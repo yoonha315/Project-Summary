{
  "nbformat": 4,
  "nbformat_minor": 0,
  "metadata": {
    "colab": {
      "provenance": [],
      "authorship_tag": "ABX9TyP+nr2zF5aTvEP/tGaVCEq6",
      "include_colab_link": true
    },
    "kernelspec": {
      "name": "python3",
      "display_name": "Python 3"
    },
    "language_info": {
      "name": "python"
    }
  },
  "cells": [
    {
      "cell_type": "markdown",
      "metadata": {
        "id": "view-in-github",
        "colab_type": "text"
      },
      "source": [
        "<a href=\"https://colab.research.google.com/github/yoonha315/Project-Summary/blob/main/NYC_Airbnb_Popularity_Prediction.ipynb\" target=\"_parent\"><img src=\"https://colab.research.google.com/assets/colab-badge.svg\" alt=\"Open In Colab\"/></a>"
      ]
    },
    {
      "cell_type": "markdown",
      "source": [
        "**Exploring Best Supervised Learning Models for NYC Airbnb Popularity Prediction** can be found in the blog: [Medium](https://medium.com/@yhjeon0315/exploring-best-supervised-learning-models-for-nyc-airbnb-popularity-prediction-3ffdb3b5b026)"
      ],
      "metadata": {
        "id": "kJN0YdIT3O2h"
      }
    }
  ]
}