{
 "cells": [
  {
   "cell_type": "markdown",
   "id": "e5f81ed8-1bad-4940-9e7b-f2d51fd46d63",
   "metadata": {},
   "source": [
    "# WIDS-SAP-case-comp\n",
    "**DebugDynamos**"
   ]
  },
  {
   "cell_type": "code",
   "execution_count": 43,
   "id": "655569c0-4c3e-4a16-9745-802af11e4a9c",
   "metadata": {},
   "outputs": [
    {
     "name": "stderr",
     "output_type": "stream",
     "text": [
      "Installing package into ‘/home/jupyter/R/x86_64-pc-linux-gnu-library/4.3’\n",
      "(as ‘lib’ is unspecified)\n",
      "\n",
      "Installing package into ‘/home/jupyter/R/x86_64-pc-linux-gnu-library/4.3’\n",
      "(as ‘lib’ is unspecified)\n",
      "\n",
      "Installing package into ‘/home/jupyter/R/x86_64-pc-linux-gnu-library/4.3’\n",
      "(as ‘lib’ is unspecified)\n",
      "\n",
      "Warning message in install.packages(\"rpart\", dependencies = TRUE):\n",
      "“installation of package ‘rpart’ had non-zero exit status”\n",
      "Installing package into ‘/home/jupyter/R/x86_64-pc-linux-gnu-library/4.3’\n",
      "(as ‘lib’ is unspecified)\n",
      "\n",
      "Installing package into ‘/home/jupyter/R/x86_64-pc-linux-gnu-library/4.3’\n",
      "(as ‘lib’ is unspecified)\n",
      "\n",
      "Loading required package: lattice\n",
      "\n",
      "\n",
      "Attaching package: ‘caret’\n",
      "\n",
      "\n",
      "The following object is masked from ‘package:purrr’:\n",
      "\n",
      "    lift\n",
      "\n",
      "\n"
     ]
    }
   ],
   "source": [
    "library(tidyverse)\n",
    "install.packages(\"repr\")\n",
    "library(repr)\n",
    "install.packages(\"car\")\n",
    "library(car)\n",
    "library(ggplot2)\n",
    "library(gridExtra)\n",
    "install.packages(\"rpart\", dependencies = TRUE)\n",
    "library(rpart)\n",
    "install.packages(\"rpart.plot\")\n",
    "library(rpart.plot)\n",
    "install.packages(\"caret\")\n",
    "library(caret)\n",
    "install.packages(\"ResourceSelection\")\n",
    "library(ResourceSelection)"
   ]
  },
  {
   "cell_type": "code",
   "execution_count": 301,
   "id": "806c63e7-68b9-45e5-a9cc-31da6fdc873d",
   "metadata": {},
   "outputs": [
    {
     "data": {
      "text/html": [
       "<table class=\"dataframe\">\n",
       "<caption>A data.frame: 6 × 10</caption>\n",
       "<thead>\n",
       "\t<tr><th></th><th scope=col>ID</th><th scope=col>Age</th><th scope=col>AI_Interaction_Level</th><th scope=col>Satisfaction_with_AI_Services</th><th scope=col>AI_Personalization_Effectiveness</th><th scope=col>AI_Response_Time</th><th scope=col>Overall_Usage_Frequency</th><th scope=col>Customer_Service_Interactions</th><th scope=col>Change_in_Usage_Patterns</th><th scope=col>Customer_Churn</th></tr>\n",
       "\t<tr><th></th><th scope=col>&lt;int&gt;</th><th scope=col>&lt;int&gt;</th><th scope=col>&lt;int&gt;</th><th scope=col>&lt;int&gt;</th><th scope=col>&lt;int&gt;</th><th scope=col>&lt;int&gt;</th><th scope=col>&lt;int&gt;</th><th scope=col>&lt;int&gt;</th><th scope=col>&lt;int&gt;</th><th scope=col>&lt;int&gt;</th></tr>\n",
       "</thead>\n",
       "<tbody>\n",
       "\t<tr><th scope=row>1</th><td>1</td><td>59</td><td>2</td><td>7</td><td>7</td><td>2</td><td>18</td><td>5</td><td> 2</td><td>1</td></tr>\n",
       "\t<tr><th scope=row>2</th><td>2</td><td>49</td><td>2</td><td>6</td><td>5</td><td>1</td><td> 3</td><td>2</td><td> 0</td><td>0</td></tr>\n",
       "\t<tr><th scope=row>3</th><td>3</td><td>35</td><td>2</td><td>3</td><td>3</td><td>3</td><td> 8</td><td>2</td><td> 1</td><td>1</td></tr>\n",
       "\t<tr><th scope=row>4</th><td>4</td><td>63</td><td>2</td><td>3</td><td>3</td><td>2</td><td> 6</td><td>6</td><td> 2</td><td>1</td></tr>\n",
       "\t<tr><th scope=row>5</th><td>5</td><td>28</td><td>4</td><td>6</td><td>6</td><td>1</td><td>11</td><td>3</td><td>-1</td><td>0</td></tr>\n",
       "\t<tr><th scope=row>6</th><td>6</td><td>41</td><td>3</td><td>1</td><td>1</td><td>3</td><td>28</td><td>2</td><td>-1</td><td>0</td></tr>\n",
       "</tbody>\n",
       "</table>\n"
      ],
      "text/latex": [
       "A data.frame: 6 × 10\n",
       "\\begin{tabular}{r|llllllllll}\n",
       "  & ID & Age & AI\\_Interaction\\_Level & Satisfaction\\_with\\_AI\\_Services & AI\\_Personalization\\_Effectiveness & AI\\_Response\\_Time & Overall\\_Usage\\_Frequency & Customer\\_Service\\_Interactions & Change\\_in\\_Usage\\_Patterns & Customer\\_Churn\\\\\n",
       "  & <int> & <int> & <int> & <int> & <int> & <int> & <int> & <int> & <int> & <int>\\\\\n",
       "\\hline\n",
       "\t1 & 1 & 59 & 2 & 7 & 7 & 2 & 18 & 5 &  2 & 1\\\\\n",
       "\t2 & 2 & 49 & 2 & 6 & 5 & 1 &  3 & 2 &  0 & 0\\\\\n",
       "\t3 & 3 & 35 & 2 & 3 & 3 & 3 &  8 & 2 &  1 & 1\\\\\n",
       "\t4 & 4 & 63 & 2 & 3 & 3 & 2 &  6 & 6 &  2 & 1\\\\\n",
       "\t5 & 5 & 28 & 4 & 6 & 6 & 1 & 11 & 3 & -1 & 0\\\\\n",
       "\t6 & 6 & 41 & 3 & 1 & 1 & 3 & 28 & 2 & -1 & 0\\\\\n",
       "\\end{tabular}\n"
      ],
      "text/markdown": [
       "\n",
       "A data.frame: 6 × 10\n",
       "\n",
       "| <!--/--> | ID &lt;int&gt; | Age &lt;int&gt; | AI_Interaction_Level &lt;int&gt; | Satisfaction_with_AI_Services &lt;int&gt; | AI_Personalization_Effectiveness &lt;int&gt; | AI_Response_Time &lt;int&gt; | Overall_Usage_Frequency &lt;int&gt; | Customer_Service_Interactions &lt;int&gt; | Change_in_Usage_Patterns &lt;int&gt; | Customer_Churn &lt;int&gt; |\n",
       "|---|---|---|---|---|---|---|---|---|---|---|\n",
       "| 1 | 1 | 59 | 2 | 7 | 7 | 2 | 18 | 5 |  2 | 1 |\n",
       "| 2 | 2 | 49 | 2 | 6 | 5 | 1 |  3 | 2 |  0 | 0 |\n",
       "| 3 | 3 | 35 | 2 | 3 | 3 | 3 |  8 | 2 |  1 | 1 |\n",
       "| 4 | 4 | 63 | 2 | 3 | 3 | 2 |  6 | 6 |  2 | 1 |\n",
       "| 5 | 5 | 28 | 4 | 6 | 6 | 1 | 11 | 3 | -1 | 0 |\n",
       "| 6 | 6 | 41 | 3 | 1 | 1 | 3 | 28 | 2 | -1 | 0 |\n",
       "\n"
      ],
      "text/plain": [
       "  ID Age AI_Interaction_Level Satisfaction_with_AI_Services\n",
       "1 1  59  2                    7                            \n",
       "2 2  49  2                    6                            \n",
       "3 3  35  2                    3                            \n",
       "4 4  63  2                    3                            \n",
       "5 5  28  4                    6                            \n",
       "6 6  41  3                    1                            \n",
       "  AI_Personalization_Effectiveness AI_Response_Time Overall_Usage_Frequency\n",
       "1 7                                2                18                     \n",
       "2 5                                1                 3                     \n",
       "3 3                                3                 8                     \n",
       "4 3                                2                 6                     \n",
       "5 6                                1                11                     \n",
       "6 1                                3                28                     \n",
       "  Customer_Service_Interactions Change_in_Usage_Patterns Customer_Churn\n",
       "1 5                              2                       1             \n",
       "2 2                              0                       0             \n",
       "3 2                              1                       1             \n",
       "4 6                              2                       1             \n",
       "5 3                             -1                       0             \n",
       "6 2                             -1                       0             "
      ]
     },
     "metadata": {},
     "output_type": "display_data"
    }
   ],
   "source": [
    "train_data <- read.csv(\"data/train.csv\")\n",
    "test_data <- read.csv(\"data/test.csv\")\n",
    "head(train_data)"
   ]
  },
  {
   "cell_type": "markdown",
   "id": "d7b3808c-af4e-41fa-90b8-3de841c7483c",
   "metadata": {},
   "source": [
    "First, out of curiosity, let's explore graphically how the customer churn appears to depend on age"
   ]
  },
  {
   "cell_type": "code",
   "execution_count": 302,
   "id": "4e796223-bca6-4297-a937-b10b261ab15c",
   "metadata": {},
   "outputs": [
    {
     "data": {
      "image/png": "[encoded data removed]",
      "text/plain": [
       "plot without title"
      ]
     },
     "metadata": {
      "image/png": {
       "height": 420,
       "width": 420
      }
     },
     "output_type": "display_data"
    }
   ],
   "source": [
    "ggplot(train_data, aes(x = as.factor(Customer_Churn), y = Age)) + \n",
    "  geom_boxplot() + \n",
    "  xlab(\"Customer Churn\") + \n",
    "  ylab(\"Age\") + \n",
    "  ggtitle(\"Distribution of Age by Customer Churn\")"
   ]
  },
  {
   "cell_type": "markdown",
   "id": "52f74e9b-2503-4aaa-a60e-70cd8a16d12f",
   "metadata": {},
   "source": [
    "Roughly speak, elder people are more likely to churn under the impact of AI"
   ]
  },
  {
   "cell_type": "markdown",
   "id": "1f110cb1-1a90-48e1-97a0-32b4174803ca",
   "metadata": {},
   "source": [
    "Then, explore graphically the relationship between the Customer_Churn and AI_Interaction_Level/Satisfaction_with_AI_Services"
   ]
  },
  {
   "cell_type": "code",
   "execution_count": 303,
   "id": "236652cb-d95f-4298-9d9a-5123d019e30b",
   "metadata": {},
   "outputs": [
    {
     "data": {
      "image/png": "[encoded data removed]",
      "text/plain": [
       "plot without title"
      ]
     },
     "metadata": {
      "image/png": {
       "height": 420,
       "width": 420
      }
     },
     "output_type": "display_data"
    }
   ],
   "source": [
    "# Bar Plot for AI_Interaction_Level\n",
    "bar_churn_inter <-\n",
    "    ggplot(train_data, aes(x = as.factor(Customer_Churn), y = AI_Interaction_Level, fill = as.factor(Customer_Churn))) + \n",
    "      geom_bar(stat = \"summary\", fun = \"mean\") +\n",
    "      labs(x = \"Customer Churn\", y = \"Average AI Interaction Level\", fill = \"Churn\") +\n",
    "      ggtitle(\"Average AI Interaction Level by Customer Churn\")\n",
    "\n",
    "# Bar Plot for Satisfaction_with_AI_Services\n",
    "bar_churn_satis <-\n",
    "    ggplot(train_data, aes(x = as.factor(Customer_Churn), y = Satisfaction_with_AI_Services, fill = as.factor(Customer_Churn))) + \n",
    "      geom_bar(stat = \"summary\" , fun = \"mean\") +\n",
    "      labs(x = \"Customer Churn\", y = \"Average Satisfaction with AI Services\", fill = \"Churn\") +\n",
    "      ggtitle(\"Average Satisfaction with AI Services by Customer Churn\")\n",
    "grid.arrange(bar_churn_inter, bar_churn_satis, ncol=2)"
   ]
  },
  {
   "cell_type": "markdown",
   "id": "9277b4e6-6b11-42f4-a6f5-b0e35f0845b8",
   "metadata": {},
   "source": [
    "From the grph, we know that people with lower average AI interaction level and lower average satisfaction with AI services tend to churn."
   ]
  },
  {
   "cell_type": "markdown",
   "id": "75524dec-8893-406a-80cb-f7a9cf30819c",
   "metadata": {},
   "source": [
    "## Fit the logistic regression model\n",
    "\n",
    "now, we start to fit the model using the training data."
   ]
  },
  {
   "cell_type": "code",
   "execution_count": 304,
   "id": "106c153b-dc55-4f39-b02f-a06bdca9170f",
   "metadata": {},
   "outputs": [
    {
     "data": {
      "text/plain": [
       "\n",
       "Call:\n",
       "glm(formula = Customer_Churn ~ Age + AI_Interaction_Level + Satisfaction_with_AI_Services + \n",
       "    AI_Personalization_Effectiveness + AI_Response_Time + Overall_Usage_Frequency + \n",
       "    Customer_Service_Interactions + Change_in_Usage_Patterns, \n",
       "    family = binomial, data = train_data)\n",
       "\n",
       "Coefficients:\n",
       "                                  Estimate Std. Error z value Pr(>|z|)    \n",
       "(Intercept)                       1.490312   0.299814   4.971 6.67e-07 ***\n",
       "Age                              -0.006199   0.003810  -1.627   0.1037    \n",
       "AI_Interaction_Level             -0.411633   0.051462  -7.999 1.26e-15 ***\n",
       "Satisfaction_with_AI_Services    -0.087719   0.038145  -2.300   0.0215 *  \n",
       "AI_Personalization_Effectiveness  0.010874   0.037867   0.287   0.7740    \n",
       "AI_Response_Time                 -0.040143   0.035838  -1.120   0.2627    \n",
       "Overall_Usage_Frequency          -0.004403   0.003358  -1.311   0.1898    \n",
       "Customer_Service_Interactions     0.003600   0.009187   0.392   0.6952    \n",
       "Change_in_Usage_Patterns          0.037161   0.020568   1.807   0.0708 .  \n",
       "---\n",
       "Signif. codes:  0 ‘***’ 0.001 ‘**’ 0.01 ‘*’ 0.05 ‘.’ 0.1 ‘ ’ 1\n",
       "\n",
       "(Dispersion parameter for binomial family taken to be 1)\n",
       "\n",
       "    Null deviance: 6797.0  on 4999  degrees of freedom\n",
       "Residual deviance: 6610.7  on 4991  degrees of freedom\n",
       "AIC: 6628.7\n",
       "\n",
       "Number of Fisher Scoring iterations: 4\n"
      ]
     },
     "metadata": {},
     "output_type": "display_data"
    }
   ],
   "source": [
    "model <- glm(Customer_Churn ~ Age + AI_Interaction_Level + Satisfaction_with_AI_Services +\n",
    "             AI_Personalization_Effectiveness + AI_Response_Time + Overall_Usage_Frequency +\n",
    "             Customer_Service_Interactions + Change_in_Usage_Patterns,\n",
    "             data = train_data, family = binomial)\n",
    "summary(model)"
   ]
  },
  {
   "cell_type": "markdown",
   "id": "f5c3b57b-17d9-45db-b1c2-7cef8f2e964c",
   "metadata": {},
   "source": [
    "Set the significance level to 0.05, so in the model above, most variables are not significant, except AI_Interaction_Level and Satisfaction_with_AI_Services.\n",
    "Variables not significantly associated with the outcome might be candidates for removal from the model, but as some variables might be important for theoretical or business reasons despite their statistical significance, we decide to improve our model by incorporating quadratic terms (squared variables) and centering the predictors."
   ]
  },
  {
   "cell_type": "markdown",
   "id": "911adb18-f57d-46fd-afa6-6bb2be7e4e90",
   "metadata": {},
   "source": [
    "Center the variables to improve the collinearity which is a possible problem following the use of quadratic terms."
   ]
  },
  {
   "cell_type": "code",
   "execution_count": 369,
   "id": "69e6ddd0-8a2f-4bfc-8441-f65a617debd3",
   "metadata": {},
   "outputs": [
    {
     "data": {
      "text/plain": [
       "\n",
       "Call:\n",
       "glm(formula = Customer_Churn ~ Age + I(Age^2) + AI_Interaction_Level + \n",
       "    Satisfaction_with_AI_Services + AI_Personalization_Effectiveness + \n",
       "    I(AI_Personalization_Effectiveness^2) + AI_Response_Time + \n",
       "    I(AI_Response_Time^2) + Overall_Usage_Frequency + I(Overall_Usage_Frequency^2) + \n",
       "    Customer_Service_Interactions + I(Customer_Service_Interactions^2) + \n",
       "    Change_in_Usage_Patterns + I(Change_in_Usage_Patterns^2), \n",
       "    family = binomial, data = train_centered)\n",
       "\n",
       "Coefficients:\n",
       "                                        Estimate Std. Error z value Pr(>|z|)\n",
       "(Intercept)                            1.0913041  0.2648493   4.120 3.78e-05\n",
       "Age                                   -0.0059567  0.0038162  -1.561  0.11855\n",
       "I(Age^2)                               0.0002108  0.0002048   1.029  0.30340\n",
       "AI_Interaction_Level                  -0.4105876  0.0516195  -7.954 1.80e-15\n",
       "Satisfaction_with_AI_Services         -0.0847865  0.0382651  -2.216  0.02671\n",
       "AI_Personalization_Effectiveness       0.0082512  0.0379633   0.217  0.82794\n",
       "I(AI_Personalization_Effectiveness^2)  0.0075433  0.0040260   1.874  0.06098\n",
       "AI_Response_Time                      -0.0393602  0.0360364  -1.092  0.27473\n",
       "I(AI_Response_Time^2)                 -0.0891270  0.0619567  -1.439  0.15028\n",
       "Overall_Usage_Frequency               -0.0043660  0.0033704  -1.295  0.19518\n",
       "I(Overall_Usage_Frequency^2)          -0.0002861  0.0004412  -0.648  0.51666\n",
       "Customer_Service_Interactions          0.0043477  0.0091700   0.474  0.63542\n",
       "I(Customer_Service_Interactions^2)     0.0085114  0.0033019   2.578  0.00995\n",
       "Change_in_Usage_Patterns               0.0400399  0.0206849   1.936  0.05290\n",
       "I(Change_in_Usage_Patterns^2)         -0.0272409  0.0174933  -1.557  0.11942\n",
       "                                         \n",
       "(Intercept)                           ***\n",
       "Age                                      \n",
       "I(Age^2)                                 \n",
       "AI_Interaction_Level                  ***\n",
       "Satisfaction_with_AI_Services         *  \n",
       "AI_Personalization_Effectiveness         \n",
       "I(AI_Personalization_Effectiveness^2) .  \n",
       "AI_Response_Time                         \n",
       "I(AI_Response_Time^2)                    \n",
       "Overall_Usage_Frequency                  \n",
       "I(Overall_Usage_Frequency^2)             \n",
       "Customer_Service_Interactions            \n",
       "I(Customer_Service_Interactions^2)    ** \n",
       "Change_in_Usage_Patterns              .  \n",
       "I(Change_in_Usage_Patterns^2)            \n",
       "---\n",
       "Signif. codes:  0 ‘***’ 0.001 ‘**’ 0.01 ‘*’ 0.05 ‘.’ 0.1 ‘ ’ 1\n",
       "\n",
       "(Dispersion parameter for binomial family taken to be 1)\n",
       "\n",
       "    Null deviance: 6797.0  on 4999  degrees of freedom\n",
       "Residual deviance: 6594.4  on 4985  degrees of freedom\n",
       "AIC: 6624.4\n",
       "\n",
       "Number of Fisher Scoring iterations: 4\n"
      ]
     },
     "metadata": {},
     "output_type": "display_data"
    }
   ],
   "source": [
    "# Centering the variables\n",
    "train_centered <- train_data |>\n",
    "    mutate(Age = Age - mean(Age),\n",
    "           AI_Personalization_Effectiveness = AI_Personalization_Effectiveness - mean(AI_Personalization_Effectiveness),\n",
    "           AI_Response_Time = AI_Response_Time - mean(AI_Response_Time),\n",
    "           Overall_Usage_Frequency = Overall_Usage_Frequency - mean(Overall_Usage_Frequency),\n",
    "           Customer_Service_Interactions = Customer_Service_Interactions - mean(Customer_Service_Interactions),\n",
    "           Change_in_Usage_Patterns = Change_in_Usage_Patterns - mean(Change_in_Usage_Patterns))\n",
    "\n",
    "model_2 <- glm(Customer_Churn ~ Age + I(Age^2) + AI_Interaction_Level + Satisfaction_with_AI_Services +\n",
    "             AI_Personalization_Effectiveness + I(AI_Personalization_Effectiveness^2) + AI_Response_Time + \n",
    "             I(AI_Response_Time^2) + Overall_Usage_Frequency + I(Overall_Usage_Frequency^2) + \n",
    "             Customer_Service_Interactions + I(Customer_Service_Interactions^2) + \n",
    "             Change_in_Usage_Patterns + I(Change_in_Usage_Patterns^2),\n",
    "             data = train_centered, family = binomial)\n",
    "summary(model_2)"
   ]
  },
  {
   "cell_type": "code",
   "execution_count": 370,
   "id": "c43c288a-3baa-4b50-8a12-b1c82f3d1981",
   "metadata": {},
   "outputs": [
    {
     "data": {
      "text/html": [
       "<style>\n",
       ".dl-inline {width: auto; margin:0; padding: 0}\n",
       ".dl-inline>dt, .dl-inline>dd {float: none; width: auto; display: inline-block}\n",
       ".dl-inline>dt::after {content: \":\\0020\"; padding-right: .5ex}\n",
       ".dl-inline>dt:not(:first-of-type) {padding-left: .5ex}\n",
       "</style><dl class=dl-inline><dt>Age</dt><dd>2.67167567438605</dd><dt>I(Age^2)</dt><dd>1.00275683190089</dd><dt>AI_Interaction_Level</dt><dd>2.67644287217039</dd><dt>Satisfaction_with_AI_Services</dt><dd>14.0019386891924</dd><dt>AI_Personalization_Effectiveness</dt><dd>13.9958411237634</dd><dt>I(AI_Personalization_Effectiveness^2)</dt><dd>1.00466661279926</dd><dt>AI_Response_Time</dt><dd>1.00405044651428</dd><dt>I(AI_Response_Time^2)</dt><dd>1.0037401603942</dd><dt>Overall_Usage_Frequency</dt><dd>1.00125644402178</dd><dt>I(Overall_Usage_Frequency^2)</dt><dd>1.00241955985308</dd><dt>Customer_Service_Interactions</dt><dd>1.00309174664886</dd><dt>I(Customer_Service_Interactions^2)</dt><dd>1.00304841271514</dd><dt>Change_in_Usage_Patterns</dt><dd>1.00294913345556</dd><dt>I(Change_in_Usage_Patterns^2)</dt><dd>1.00189785685387</dd></dl>\n"
      ],
      "text/latex": [
       "\\begin{description*}\n",
       "\\item[Age] 2.67167567438605\n",
       "\\item[I(Age\\textbackslash{}textasciicircum\\{\\}2)] 1.00275683190089\n",
       "\\item[AI\\textbackslash{}\\_Interaction\\textbackslash{}\\_Level] 2.67644287217039\n",
       "\\item[Satisfaction\\textbackslash{}\\_with\\textbackslash{}\\_AI\\textbackslash{}\\_Services] 14.0019386891924\n",
       "\\item[AI\\textbackslash{}\\_Personalization\\textbackslash{}\\_Effectiveness] 13.9958411237634\n",
       "\\item[I(AI\\textbackslash{}\\_Personalization\\textbackslash{}\\_Effectiveness\\textbackslash{}textasciicircum\\{\\}2)] 1.00466661279926\n",
       "\\item[AI\\textbackslash{}\\_Response\\textbackslash{}\\_Time] 1.00405044651428\n",
       "\\item[I(AI\\textbackslash{}\\_Response\\textbackslash{}\\_Time\\textbackslash{}textasciicircum\\{\\}2)] 1.0037401603942\n",
       "\\item[Overall\\textbackslash{}\\_Usage\\textbackslash{}\\_Frequency] 1.00125644402178\n",
       "\\item[I(Overall\\textbackslash{}\\_Usage\\textbackslash{}\\_Frequency\\textbackslash{}textasciicircum\\{\\}2)] 1.00241955985308\n",
       "\\item[Customer\\textbackslash{}\\_Service\\textbackslash{}\\_Interactions] 1.00309174664886\n",
       "\\item[I(Customer\\textbackslash{}\\_Service\\textbackslash{}\\_Interactions\\textbackslash{}textasciicircum\\{\\}2)] 1.00304841271514\n",
       "\\item[Change\\textbackslash{}\\_in\\textbackslash{}\\_Usage\\textbackslash{}\\_Patterns] 1.00294913345556\n",
       "\\item[I(Change\\textbackslash{}\\_in\\textbackslash{}\\_Usage\\textbackslash{}\\_Patterns\\textbackslash{}textasciicircum\\{\\}2)] 1.00189785685387\n",
       "\\end{description*}\n"
      ],
      "text/markdown": [
       "Age\n",
       ":   2.67167567438605I(Age^2)\n",
       ":   1.00275683190089AI_Interaction_Level\n",
       ":   2.67644287217039Satisfaction_with_AI_Services\n",
       ":   14.0019386891924AI_Personalization_Effectiveness\n",
       ":   13.9958411237634I(AI_Personalization_Effectiveness^2)\n",
       ":   1.00466661279926AI_Response_Time\n",
       ":   1.00405044651428I(AI_Response_Time^2)\n",
       ":   1.0037401603942Overall_Usage_Frequency\n",
       ":   1.00125644402178I(Overall_Usage_Frequency^2)\n",
       ":   1.00241955985308Customer_Service_Interactions\n",
       ":   1.00309174664886I(Customer_Service_Interactions^2)\n",
       ":   1.00304841271514Change_in_Usage_Patterns\n",
       ":   1.00294913345556I(Change_in_Usage_Patterns^2)\n",
       ":   1.00189785685387\n",
       "\n"
      ],
      "text/plain": [
       "                                  Age                              I(Age^2) \n",
       "                             2.671676                              1.002757 \n",
       "                 AI_Interaction_Level         Satisfaction_with_AI_Services \n",
       "                             2.676443                             14.001939 \n",
       "     AI_Personalization_Effectiveness I(AI_Personalization_Effectiveness^2) \n",
       "                            13.995841                              1.004667 \n",
       "                     AI_Response_Time                 I(AI_Response_Time^2) \n",
       "                             1.004050                              1.003740 \n",
       "              Overall_Usage_Frequency          I(Overall_Usage_Frequency^2) \n",
       "                             1.001256                              1.002420 \n",
       "        Customer_Service_Interactions    I(Customer_Service_Interactions^2) \n",
       "                             1.003092                              1.003048 \n",
       "             Change_in_Usage_Patterns         I(Change_in_Usage_Patterns^2) \n",
       "                             1.002949                              1.001898 "
      ]
     },
     "metadata": {},
     "output_type": "display_data"
    }
   ],
   "source": [
    "vif_values <- vif(model_2)\n",
    "vif_values"
   ]
  },
  {
   "cell_type": "markdown",
   "id": "94168410-716e-48e5-9e43-8b7de2ac69ce",
   "metadata": {},
   "source": [
    "Most vif values are smaller than 5, except the vif value for Satisfaction_with_AI_Services(14.0019386891924) and \n",
    "AI_Personalization_Effectiveness(13.9958411237634). Thus, there exists a strong collinearity between these two variables. \n",
    "\n",
    "To deal with this problem, we implement the `PCA` to reduce the dimensionality of the data, taking the first principal \n",
    "component of the two variables as a new predictor, which will be a linear combination of them that captures the maximum variance."
   ]
  },
  {
   "cell_type": "code",
   "execution_count": 371,
   "id": "20c61b32-9891-4310-9e52-51187c602449",
   "metadata": {},
   "outputs": [
    {
     "data": {
      "text/plain": [
       "Importance of components:\n",
       "                          PC1     PC2\n",
       "Standard deviation     1.4013 0.19086\n",
       "Proportion of Variance 0.9818 0.01821\n",
       "Cumulative Proportion  0.9818 1.00000"
      ]
     },
     "metadata": {},
     "output_type": "display_data"
    }
   ],
   "source": [
    "library(stats)\n",
    "# Scale the variables\n",
    "scaled_data <- scale(train_data[, c(\"Satisfaction_with_AI_Services\", \"AI_Personalization_Effectiveness\")])\n",
    "# Perform PCA\n",
    "pca_result <- prcomp(scaled_data)\n",
    "\n",
    "# Examine the summary of the PCA result\n",
    "summary(pca_result)"
   ]
  },
  {
   "cell_type": "markdown",
   "id": "0dc201f9-5975-4d12-b774-18fe9b6ccb34",
   "metadata": {},
   "source": [
    "From the summary, almost all of the variability in the two original variables can be effectively summarized by the first principal component (PC1). The second principal component (PC2) captures a very small amount of additional variance and is likely not necessary if we're looking to reduce dimensionality without significant loss of information.\n",
    "\n",
    "Thus, we choose to use only the first principal component as a predictor in your logistic regression model to represent the combined effect of the original variables, without significant loss of information."
   ]
  },
  {
   "cell_type": "code",
   "execution_count": 372,
   "id": "dc0e9748-3199-4589-af5b-c4736d366dbe",
   "metadata": {},
   "outputs": [],
   "source": [
    "# Create a new variable in the original dataset based on the first principal component\n",
    "train_centered$PCA_1 <- pca_result$x[, 1]"
   ]
  },
  {
   "cell_type": "markdown",
   "id": "f2429bea-c719-40de-b090-dc6c596064bf",
   "metadata": {},
   "source": [
    "**Now, fit the model again**"
   ]
  },
  {
   "cell_type": "code",
   "execution_count": 309,
   "id": "3e9dfce0-9174-4d87-a436-1eabb84e66dd",
   "metadata": {},
   "outputs": [
    {
     "data": {
      "text/plain": [
       "\n",
       "Call:\n",
       "glm(formula = Customer_Churn ~ Age + I(Age^2) + AI_Interaction_Level + \n",
       "    PCA_1 + AI_Response_Time + I(AI_Response_Time^2) + Overall_Usage_Frequency + \n",
       "    I(Overall_Usage_Frequency^2) + Customer_Service_Interactions + \n",
       "    I(Customer_Service_Interactions^2) + Change_in_Usage_Patterns + \n",
       "    I(Change_in_Usage_Patterns^2), family = binomial, data = train_centered)\n",
       "\n",
       "Coefficients:\n",
       "                                     Estimate Std. Error z value Pr(>|z|)    \n",
       "(Intercept)                         0.6933497  0.1520638   4.560 5.13e-06 ***\n",
       "Age                                -0.0060605  0.0038118  -1.590  0.11185    \n",
       "I(Age^2)                            0.0002106  0.0002047   1.029  0.30357    \n",
       "AI_Interaction_Level               -0.4121063  0.0515722  -7.991 1.34e-15 ***\n",
       "PCA_1                               0.1547703  0.0210062   7.368 1.73e-13 ***\n",
       "AI_Response_Time                   -0.0371838  0.0359981  -1.033  0.30163    \n",
       "I(AI_Response_Time^2)              -0.0924361  0.0619070  -1.493  0.13540    \n",
       "Overall_Usage_Frequency            -0.0044147  0.0033678  -1.311  0.18990    \n",
       "I(Overall_Usage_Frequency^2)       -0.0003233  0.0004406  -0.734  0.46303    \n",
       "Customer_Service_Interactions       0.0043864  0.0091635   0.479  0.63217    \n",
       "I(Customer_Service_Interactions^2)  0.0086183  0.0032988   2.613  0.00899 ** \n",
       "Change_in_Usage_Patterns            0.0392232  0.0206648   1.898  0.05769 .  \n",
       "I(Change_in_Usage_Patterns^2)      -0.0266909  0.0174818  -1.527  0.12681    \n",
       "---\n",
       "Signif. codes:  0 ‘***’ 0.001 ‘**’ 0.01 ‘*’ 0.05 ‘.’ 0.1 ‘ ’ 1\n",
       "\n",
       "(Dispersion parameter for binomial family taken to be 1)\n",
       "\n",
       "    Null deviance: 6797.0  on 4999  degrees of freedom\n",
       "Residual deviance: 6599.4  on 4987  degrees of freedom\n",
       "AIC: 6625.4\n",
       "\n",
       "Number of Fisher Scoring iterations: 4\n"
      ]
     },
     "metadata": {},
     "output_type": "display_data"
    }
   ],
   "source": [
    "model_3 <- glm(Customer_Churn ~ Age + I(Age^2) + AI_Interaction_Level + PCA_1 +\n",
    "             AI_Response_Time + \n",
    "             I(AI_Response_Time^2) + Overall_Usage_Frequency + I(Overall_Usage_Frequency^2) + \n",
    "             Customer_Service_Interactions + I(Customer_Service_Interactions^2) + \n",
    "             Change_in_Usage_Patterns + I(Change_in_Usage_Patterns^2),\n",
    "             data = train_centered, family = binomial)\n",
    "summary(model_3)"
   ]
  },
  {
   "cell_type": "markdown",
   "id": "360cba41-51be-4bf0-b5b4-175db2a393e3",
   "metadata": {},
   "source": [
    "Dealing with the problem of insignificant variables, in the context of customer churn and AI services, we considered to include some plausible interactions.\n",
    "* Age & AI Interaction Level\n",
    "* AI_Response_Time & PCA_1 \n",
    "* Overall Usage Frequency & Change in Usage Patterns\n",
    "* Customer Service Interactions & Change in Usage Patterns\n",
    "* Overall_Usage_Frequency & PCA_1"
   ]
  },
  {
   "cell_type": "code",
   "execution_count": 310,
   "id": "08a7224b-8c8c-4421-bc2e-0a7caef116a6",
   "metadata": {},
   "outputs": [
    {
     "data": {
      "text/plain": [
       "\n",
       "Call:\n",
       "glm(formula = Customer_Churn ~ Age * AI_Interaction_Level + I(Age^2) + \n",
       "    AI_Response_Time * PCA_1 * Overall_Usage_Frequency + I(AI_Response_Time^2) + \n",
       "    I(Overall_Usage_Frequency^2) + I(Customer_Service_Interactions^2) + \n",
       "    I(Change_in_Usage_Patterns^2) + Change_in_Usage_Patterns * \n",
       "    Customer_Service_Interactions, family = binomial, data = train_centered)\n",
       "\n",
       "Coefficients:\n",
       "                                                         Estimate Std. Error\n",
       "(Intercept)                                             0.6933199  0.1526282\n",
       "Age                                                    -0.0031270  0.0114462\n",
       "AI_Interaction_Level                                   -0.4127974  0.0516437\n",
       "I(Age^2)                                                0.0001489  0.0002971\n",
       "AI_Response_Time                                       -0.0352632  0.0360812\n",
       "PCA_1                                                   0.1550499  0.0210234\n",
       "Overall_Usage_Frequency                                -0.0042147  0.0033736\n",
       "I(AI_Response_Time^2)                                  -0.0923247  0.0619478\n",
       "I(Overall_Usage_Frequency^2)                           -0.0003196  0.0004414\n",
       "I(Customer_Service_Interactions^2)                      0.0086992  0.0033013\n",
       "I(Change_in_Usage_Patterns^2)                          -0.0271732  0.0174932\n",
       "Change_in_Usage_Patterns                                0.0394790  0.0206784\n",
       "Customer_Service_Interactions                           0.0043601  0.0091679\n",
       "Age:AI_Interaction_Level                               -0.0011773  0.0043289\n",
       "AI_Response_Time:PCA_1                                 -0.0182226  0.0259924\n",
       "AI_Response_Time:Overall_Usage_Frequency                0.0002815  0.0041432\n",
       "PCA_1:Overall_Usage_Frequency                          -0.0029327  0.0024494\n",
       "Change_in_Usage_Patterns:Customer_Service_Interactions  0.0066183  0.0064652\n",
       "AI_Response_Time:PCA_1:Overall_Usage_Frequency         -0.0001007  0.0030309\n",
       "                                                       z value Pr(>|z|)    \n",
       "(Intercept)                                              4.543 5.56e-06 ***\n",
       "Age                                                     -0.273  0.78471    \n",
       "AI_Interaction_Level                                    -7.993 1.31e-15 ***\n",
       "I(Age^2)                                                 0.501  0.61628    \n",
       "AI_Response_Time                                        -0.977  0.32841    \n",
       "PCA_1                                                    7.375 1.64e-13 ***\n",
       "Overall_Usage_Frequency                                 -1.249  0.21155    \n",
       "I(AI_Response_Time^2)                                   -1.490  0.13613    \n",
       "I(Overall_Usage_Frequency^2)                            -0.724  0.46899    \n",
       "I(Customer_Service_Interactions^2)                       2.635  0.00841 ** \n",
       "I(Change_in_Usage_Patterns^2)                           -1.553  0.12034    \n",
       "Change_in_Usage_Patterns                                 1.909  0.05624 .  \n",
       "Customer_Service_Interactions                            0.476  0.63437    \n",
       "Age:AI_Interaction_Level                                -0.272  0.78566    \n",
       "AI_Response_Time:PCA_1                                  -0.701  0.48326    \n",
       "AI_Response_Time:Overall_Usage_Frequency                 0.068  0.94582    \n",
       "PCA_1:Overall_Usage_Frequency                           -1.197  0.23118    \n",
       "Change_in_Usage_Patterns:Customer_Service_Interactions   1.024  0.30598    \n",
       "AI_Response_Time:PCA_1:Overall_Usage_Frequency          -0.033  0.97350    \n",
       "---\n",
       "Signif. codes:  0 ‘***’ 0.001 ‘**’ 0.01 ‘*’ 0.05 ‘.’ 0.1 ‘ ’ 1\n",
       "\n",
       "(Dispersion parameter for binomial family taken to be 1)\n",
       "\n",
       "    Null deviance: 6797.0  on 4999  degrees of freedom\n",
       "Residual deviance: 6596.4  on 4981  degrees of freedom\n",
       "AIC: 6634.4\n",
       "\n",
       "Number of Fisher Scoring iterations: 4\n"
      ]
     },
     "metadata": {},
     "output_type": "display_data"
    }
   ],
   "source": [
    "model_interaction <- glm(Customer_Churn ~ Age * AI_Interaction_Level + I(Age^2) +\n",
    "                         AI_Response_Time * PCA_1 * Overall_Usage_Frequency + \n",
    "                         I(AI_Response_Time^2) +  I(Overall_Usage_Frequency^2) + \n",
    "                         I(Customer_Service_Interactions^2) + I(Change_in_Usage_Patterns^2) +\n",
    "                         Change_in_Usage_Patterns * Customer_Service_Interactions ,\n",
    "                         data = train_centered, family = binomial)\n",
    "summary(model_interaction)"
   ]
  },
  {
   "cell_type": "markdown",
   "id": "39468a14-888b-40af-a614-d73a25d067f6",
   "metadata": {},
   "source": [
    "Now, remove the interactions which have quite large p-value(insignificant)."
   ]
  },
  {
   "cell_type": "code",
   "execution_count": 311,
   "id": "aa90c583-cf56-407f-90fe-bb876427920d",
   "metadata": {},
   "outputs": [
    {
     "data": {
      "text/plain": [
       "\n",
       "Call:\n",
       "glm(formula = Customer_Churn ~ Age + AI_Interaction_Level + I(Age^2) + \n",
       "    AI_Response_Time + PCA_1 * Overall_Usage_Frequency + I(AI_Response_Time^2) + \n",
       "    I(Customer_Service_Interactions^2) + I(Change_in_Usage_Patterns^2) + \n",
       "    Change_in_Usage_Patterns + Customer_Service_Interactions, \n",
       "    family = binomial, data = train_centered)\n",
       "\n",
       "Coefficients:\n",
       "                                     Estimate Std. Error z value Pr(>|z|)    \n",
       "(Intercept)                         0.6707705  0.1484718   4.518 6.25e-06 ***\n",
       "Age                                -0.0060562  0.0038120  -1.589  0.11213    \n",
       "AI_Interaction_Level               -0.4125722  0.0515816  -7.998 1.26e-15 ***\n",
       "I(Age^2)                            0.0002129  0.0002047   1.040  0.29826    \n",
       "AI_Response_Time                   -0.0376562  0.0360041  -1.046  0.29561    \n",
       "PCA_1                               0.1543997  0.0210118   7.348 2.01e-13 ***\n",
       "Overall_Usage_Frequency            -0.0042158  0.0033664  -1.252  0.21045    \n",
       "I(AI_Response_Time^2)              -0.0937310  0.0619136  -1.514  0.13005    \n",
       "I(Customer_Service_Interactions^2)  0.0086629  0.0032995   2.626  0.00865 ** \n",
       "I(Change_in_Usage_Patterns^2)      -0.0270953  0.0174852  -1.550  0.12123    \n",
       "Change_in_Usage_Patterns            0.0389446  0.0206660   1.884  0.05950 .  \n",
       "Customer_Service_Interactions       0.0044299  0.0091642   0.483  0.62882    \n",
       "PCA_1:Overall_Usage_Frequency      -0.0028980  0.0024439  -1.186  0.23570    \n",
       "---\n",
       "Signif. codes:  0 ‘***’ 0.001 ‘**’ 0.01 ‘*’ 0.05 ‘.’ 0.1 ‘ ’ 1\n",
       "\n",
       "(Dispersion parameter for binomial family taken to be 1)\n",
       "\n",
       "    Null deviance: 6797.0  on 4999  degrees of freedom\n",
       "Residual deviance: 6598.5  on 4987  degrees of freedom\n",
       "AIC: 6624.5\n",
       "\n",
       "Number of Fisher Scoring iterations: 4\n"
      ]
     },
     "metadata": {},
     "output_type": "display_data"
    }
   ],
   "source": [
    "model_inter <- glm(Customer_Churn ~ Age + AI_Interaction_Level + I(Age^2) +\n",
    "                         AI_Response_Time + PCA_1 * Overall_Usage_Frequency + \n",
    "                         I(AI_Response_Time^2) +  \n",
    "                         I(Customer_Service_Interactions^2) + I(Change_in_Usage_Patterns^2) +\n",
    "                         Change_in_Usage_Patterns + Customer_Service_Interactions ,\n",
    "                         data = train_centered, family = binomial)\n",
    "summary(model_inter)"
   ]
  },
  {
   "cell_type": "markdown",
   "id": "6f81d72a-42fd-4cc9-bcb0-2739cd782b43",
   "metadata": {},
   "source": [
    "Given the p-value for I(Customer_Service_Interactions^2) is pretty low compared to that of Customer_Service_Interactions,\n",
    "let's create a model without the variable Customer_Service_Interactions and do the anova test to compare."
   ]
  },
  {
   "cell_type": "code",
   "execution_count": 312,
   "id": "202008be-d341-487c-87e9-fc9f952efa19",
   "metadata": {},
   "outputs": [
    {
     "data": {
      "text/html": [
       "<table class=\"dataframe\">\n",
       "<caption>A anova: 2 × 5</caption>\n",
       "<thead>\n",
       "\t<tr><th></th><th scope=col>Resid. Df</th><th scope=col>Resid. Dev</th><th scope=col>Df</th><th scope=col>Deviance</th><th scope=col>Pr(&gt;Chi)</th></tr>\n",
       "\t<tr><th></th><th scope=col>&lt;dbl&gt;</th><th scope=col>&lt;dbl&gt;</th><th scope=col>&lt;dbl&gt;</th><th scope=col>&lt;dbl&gt;</th><th scope=col>&lt;dbl&gt;</th></tr>\n",
       "</thead>\n",
       "<tbody>\n",
       "\t<tr><th scope=row>1</th><td>4988</td><td>6598.754</td><td>NA</td><td>       NA</td><td>       NA</td></tr>\n",
       "\t<tr><th scope=row>2</th><td>4987</td><td>6598.521</td><td> 1</td><td>0.2336702</td><td>0.6288157</td></tr>\n",
       "</tbody>\n",
       "</table>\n"
      ],
      "text/latex": [
       "A anova: 2 × 5\n",
       "\\begin{tabular}{r|lllll}\n",
       "  & Resid. Df & Resid. Dev & Df & Deviance & Pr(>Chi)\\\\\n",
       "  & <dbl> & <dbl> & <dbl> & <dbl> & <dbl>\\\\\n",
       "\\hline\n",
       "\t1 & 4988 & 6598.754 & NA &        NA &        NA\\\\\n",
       "\t2 & 4987 & 6598.521 &  1 & 0.2336702 & 0.6288157\\\\\n",
       "\\end{tabular}\n"
      ],
      "text/markdown": [
       "\n",
       "A anova: 2 × 5\n",
       "\n",
       "| <!--/--> | Resid. Df &lt;dbl&gt; | Resid. Dev &lt;dbl&gt; | Df &lt;dbl&gt; | Deviance &lt;dbl&gt; | Pr(&gt;Chi) &lt;dbl&gt; |\n",
       "|---|---|---|---|---|---|\n",
       "| 1 | 4988 | 6598.754 | NA |        NA |        NA |\n",
       "| 2 | 4987 | 6598.521 |  1 | 0.2336702 | 0.6288157 |\n",
       "\n"
      ],
      "text/plain": [
       "  Resid. Df Resid. Dev Df Deviance  Pr(>Chi) \n",
       "1 4988      6598.754   NA        NA        NA\n",
       "2 4987      6598.521    1 0.2336702 0.6288157"
      ]
     },
     "metadata": {},
     "output_type": "display_data"
    }
   ],
   "source": [
    "model_reduced <- glm(Customer_Churn ~  Age + AI_Interaction_Level + I(Age^2) +\n",
    "                         AI_Response_Time + PCA_1 * Overall_Usage_Frequency + \n",
    "                         I(AI_Response_Time^2) +  \n",
    "                         I(Customer_Service_Interactions^2) + I(Change_in_Usage_Patterns^2) +\n",
    "                         Change_in_Usage_Patterns ,\n",
    "                     data = train_centered, family = binomial)\n",
    "anova(model_reduced, model_inter, test = \"Chisq\")"
   ]
  },
  {
   "cell_type": "markdown",
   "id": "03180f67-2f35-4767-8d6e-b26aa6f6f606",
   "metadata": {},
   "source": [
    "The reduced model (model 2) has 1 fewer degrees of freedom than the full model (model 1), and the deviance has increased by 0.2336702. The p-value of 0.6288157 suggests that the difference in deviance is not statistically significant at common alpha levels (like 0.05), which implies that the simpler model without the main effect term of Customer_Service_Interactions is not significantly worse than the full model. This could mean that including the main effect of Customer_Service_Interactions is not necessary when the squared term and the interaction term are present in the model. Hence, we decide to delete the variable \n",
    "Customer_Service_Interactions."
   ]
  },
  {
   "cell_type": "code",
   "execution_count": 313,
   "id": "9bf443b3-a229-47b3-b55f-52f5dc4915aa",
   "metadata": {},
   "outputs": [
    {
     "data": {
      "text/plain": [
       "\n",
       "Call:\n",
       "glm(formula = Customer_Churn ~ Age + AI_Interaction_Level + I(Age^2) + \n",
       "    AI_Response_Time + PCA_1 * Overall_Usage_Frequency + I(AI_Response_Time^2) + \n",
       "    I(Customer_Service_Interactions^2) + I(Change_in_Usage_Patterns^2) + \n",
       "    Change_in_Usage_Patterns, family = binomial, data = train_centered)\n",
       "\n",
       "Coefficients:\n",
       "                                     Estimate Std. Error z value Pr(>|z|)    \n",
       "(Intercept)                         0.6726716  0.1484231   4.532 5.84e-06 ***\n",
       "Age                                -0.0060896  0.0038113  -1.598  0.11009    \n",
       "AI_Interaction_Level               -0.4128799  0.0515773  -8.005 1.19e-15 ***\n",
       "I(Age^2)                            0.0002105  0.0002046   1.029  0.30360    \n",
       "AI_Response_Time                   -0.0373632  0.0359980  -1.038  0.29930    \n",
       "PCA_1                               0.1542680  0.0210095   7.343 2.09e-13 ***\n",
       "Overall_Usage_Frequency            -0.0042034  0.0033662  -1.249  0.21177    \n",
       "I(AI_Response_Time^2)              -0.0938913  0.0619112  -1.517  0.12938    \n",
       "I(Customer_Service_Interactions^2)  0.0086042  0.0032971   2.610  0.00906 ** \n",
       "I(Change_in_Usage_Patterns^2)      -0.0271220  0.0174851  -1.551  0.12087    \n",
       "Change_in_Usage_Patterns            0.0390120  0.0206652   1.888  0.05905 .  \n",
       "PCA_1:Overall_Usage_Frequency      -0.0029009  0.0024438  -1.187  0.23521    \n",
       "---\n",
       "Signif. codes:  0 ‘***’ 0.001 ‘**’ 0.01 ‘*’ 0.05 ‘.’ 0.1 ‘ ’ 1\n",
       "\n",
       "(Dispersion parameter for binomial family taken to be 1)\n",
       "\n",
       "    Null deviance: 6797.0  on 4999  degrees of freedom\n",
       "Residual deviance: 6598.8  on 4988  degrees of freedom\n",
       "AIC: 6622.8\n",
       "\n",
       "Number of Fisher Scoring iterations: 4\n"
      ]
     },
     "metadata": {},
     "output_type": "display_data"
    }
   ],
   "source": [
    "summary(model_reduced)"
   ]
  },
  {
   "cell_type": "markdown",
   "id": "e1a9d33b-b39c-4cd6-9454-9fb8e4e40157",
   "metadata": {},
   "source": [
    "**Do the same anova test on Age and I(Age^2)**"
   ]
  },
  {
   "cell_type": "code",
   "execution_count": 314,
   "id": "e0d6719a-184b-4ee0-85cf-74ac51e8c1c8",
   "metadata": {},
   "outputs": [
    {
     "data": {
      "text/html": [
       "<table class=\"dataframe\">\n",
       "<caption>A anova: 2 × 5</caption>\n",
       "<thead>\n",
       "\t<tr><th></th><th scope=col>Resid. Df</th><th scope=col>Resid. Dev</th><th scope=col>Df</th><th scope=col>Deviance</th><th scope=col>Pr(&gt;Chi)</th></tr>\n",
       "\t<tr><th></th><th scope=col>&lt;dbl&gt;</th><th scope=col>&lt;dbl&gt;</th><th scope=col>&lt;dbl&gt;</th><th scope=col>&lt;dbl&gt;</th><th scope=col>&lt;dbl&gt;</th></tr>\n",
       "</thead>\n",
       "<tbody>\n",
       "\t<tr><th scope=row>1</th><td>4989</td><td>6599.812</td><td>NA</td><td>      NA</td><td>       NA</td></tr>\n",
       "\t<tr><th scope=row>2</th><td>4988</td><td>6598.754</td><td> 1</td><td>1.057411</td><td>0.3038065</td></tr>\n",
       "</tbody>\n",
       "</table>\n"
      ],
      "text/latex": [
       "A anova: 2 × 5\n",
       "\\begin{tabular}{r|lllll}\n",
       "  & Resid. Df & Resid. Dev & Df & Deviance & Pr(>Chi)\\\\\n",
       "  & <dbl> & <dbl> & <dbl> & <dbl> & <dbl>\\\\\n",
       "\\hline\n",
       "\t1 & 4989 & 6599.812 & NA &       NA &        NA\\\\\n",
       "\t2 & 4988 & 6598.754 &  1 & 1.057411 & 0.3038065\\\\\n",
       "\\end{tabular}\n"
      ],
      "text/markdown": [
       "\n",
       "A anova: 2 × 5\n",
       "\n",
       "| <!--/--> | Resid. Df &lt;dbl&gt; | Resid. Dev &lt;dbl&gt; | Df &lt;dbl&gt; | Deviance &lt;dbl&gt; | Pr(&gt;Chi) &lt;dbl&gt; |\n",
       "|---|---|---|---|---|---|\n",
       "| 1 | 4989 | 6599.812 | NA |       NA |        NA |\n",
       "| 2 | 4988 | 6598.754 |  1 | 1.057411 | 0.3038065 |\n",
       "\n"
      ],
      "text/plain": [
       "  Resid. Df Resid. Dev Df Deviance Pr(>Chi) \n",
       "1 4989      6599.812   NA       NA        NA\n",
       "2 4988      6598.754    1 1.057411 0.3038065"
      ]
     },
     "metadata": {},
     "output_type": "display_data"
    }
   ],
   "source": [
    "model_no_age2 <- glm(Customer_Churn ~  Age + AI_Interaction_Level + \n",
    "                         AI_Response_Time + PCA_1 * Overall_Usage_Frequency + \n",
    "                         I(AI_Response_Time^2) +  \n",
    "                         I(Customer_Service_Interactions^2) + I(Change_in_Usage_Patterns^2) +\n",
    "                         Change_in_Usage_Patterns ,\n",
    "                     data = train_centered, family = binomial)\n",
    "anova(model_no_age2, model_reduced, test = \"Chisq\")"
   ]
  },
  {
   "cell_type": "markdown",
   "id": "86d04afe-3c04-4d95-a6df-c14bec5dfad8",
   "metadata": {},
   "source": [
    "The p-value 0.3038065 shows that the subtraction of I(Age^2) doesn't significantly make the model worse, so we choose to delete it."
   ]
  },
  {
   "cell_type": "code",
   "execution_count": 315,
   "id": "a67bf0c9-565f-427f-8ab5-50edd33fe0bb",
   "metadata": {},
   "outputs": [
    {
     "data": {
      "text/plain": [
       "\n",
       "Call:\n",
       "glm(formula = Customer_Churn ~ Age + AI_Interaction_Level + AI_Response_Time + \n",
       "    PCA_1 * Overall_Usage_Frequency + I(AI_Response_Time^2) + \n",
       "    I(Customer_Service_Interactions^2) + I(Change_in_Usage_Patterns^2) + \n",
       "    Change_in_Usage_Patterns, family = binomial, data = train_centered)\n",
       "\n",
       "Coefficients:\n",
       "                                    Estimate Std. Error z value Pr(>|z|)    \n",
       "(Intercept)                         0.702379   0.145596   4.824 1.41e-06 ***\n",
       "Age                                -0.006005   0.003814  -1.575  0.11537    \n",
       "AI_Interaction_Level               -0.411369   0.051543  -7.981 1.45e-15 ***\n",
       "AI_Response_Time                   -0.037596   0.035992  -1.045  0.29622    \n",
       "PCA_1                               0.154756   0.021003   7.368 1.73e-13 ***\n",
       "Overall_Usage_Frequency            -0.004253   0.003365  -1.264  0.20627    \n",
       "I(AI_Response_Time^2)              -0.093411   0.061902  -1.509  0.13130    \n",
       "I(Customer_Service_Interactions^2)  0.008553   0.003296   2.595  0.00947 ** \n",
       "I(Change_in_Usage_Patterns^2)      -0.027215   0.017483  -1.557  0.11955    \n",
       "Change_in_Usage_Patterns            0.039124   0.020663   1.893  0.05830 .  \n",
       "PCA_1:Overall_Usage_Frequency      -0.002887   0.002443  -1.181  0.23746    \n",
       "---\n",
       "Signif. codes:  0 ‘***’ 0.001 ‘**’ 0.01 ‘*’ 0.05 ‘.’ 0.1 ‘ ’ 1\n",
       "\n",
       "(Dispersion parameter for binomial family taken to be 1)\n",
       "\n",
       "    Null deviance: 6797.0  on 4999  degrees of freedom\n",
       "Residual deviance: 6599.8  on 4989  degrees of freedom\n",
       "AIC: 6621.8\n",
       "\n",
       "Number of Fisher Scoring iterations: 4\n"
      ]
     },
     "metadata": {},
     "output_type": "display_data"
    }
   ],
   "source": [
    "summary(model_no_age2)"
   ]
  },
  {
   "cell_type": "markdown",
   "id": "65b15ef0-38b5-4370-b77c-eb3cafcf4e1c",
   "metadata": {},
   "source": [
    "#### Model Diagnostics:\n",
    "Conduct model diagnostics to check for influential observations (with high leverage or large residuals) that could be affecting the model fit."
   ]
  },
  {
   "cell_type": "code",
   "execution_count": 316,
   "id": "ad5c516c-3ab9-4dcf-bf1f-1a693701dd09",
   "metadata": {},
   "outputs": [
    {
     "data": {
      "text/html": [
       "FALSE"
      ],
      "text/latex": [
       "FALSE"
      ],
      "text/markdown": [
       "FALSE"
      ],
      "text/plain": [
       "[1] FALSE"
      ]
     },
     "metadata": {},
     "output_type": "display_data"
    }
   ],
   "source": [
    "cooks_d <- cooks.distance(model_no_age2)\n",
    "# Find the indices of the values which are greater than 1\n",
    "influential_points <- any(cooks_d > 1)\n",
    "influential_points"
   ]
  },
  {
   "cell_type": "markdown",
   "id": "3d8774ff-cac2-4a9a-9101-1811cf686868",
   "metadata": {},
   "source": [
    "There does not exist any \"influential\" points to be excluded."
   ]
  },
  {
   "cell_type": "code",
   "execution_count": 317,
   "id": "a24c6c5e-ceb2-4d12-806f-c596f85ff713",
   "metadata": {},
   "outputs": [
    {
     "name": "stderr",
     "output_type": "stream",
     "text": [
      "Warning message in vif.lm(model_inter, type = \"predictor\"):\n",
      "“type = 'predictor' is available only for unweighted linear models;\n",
      "  type = 'terms' will be used”\n"
     ]
    },
    {
     "data": {
      "text/html": [
       "<style>\n",
       ".dl-inline {width: auto; margin:0; padding: 0}\n",
       ".dl-inline>dt, .dl-inline>dd {float: none; width: auto; display: inline-block}\n",
       ".dl-inline>dt::after {content: \":\\0020\"; padding-right: .5ex}\n",
       ".dl-inline>dt:not(:first-of-type) {padding-left: .5ex}\n",
       "</style><dl class=dl-inline><dt>Age</dt><dd>2.66856885257122</dd><dt>AI_Interaction_Level</dt><dd>2.67451898873687</dd><dt>I(Age^2)</dt><dd>1.00262941392913</dd><dt>AI_Response_Time</dt><dd>1.00309578807103</dd><dt>PCA_1</dt><dd>1.00451849986751</dd><dt>Overall_Usage_Frequency</dt><dd>1.00292877455097</dd><dt>I(AI_Response_Time^2)</dt><dd>1.00322522009357</dd><dt>I(Customer_Service_Interactions^2)</dt><dd>1.00251773835416</dd><dt>I(Change_in_Usage_Patterns^2)</dt><dd>1.00181975587166</dd><dt>Change_in_Usage_Patterns</dt><dd>1.00197318087206</dd><dt>Customer_Service_Interactions</dt><dd>1.00287541357564</dd><dt>PCA_1:Overall_Usage_Frequency</dt><dd>1.00264556137016</dd></dl>\n"
      ],
      "text/latex": [
       "\\begin{description*}\n",
       "\\item[Age] 2.66856885257122\n",
       "\\item[AI\\textbackslash{}\\_Interaction\\textbackslash{}\\_Level] 2.67451898873687\n",
       "\\item[I(Age\\textbackslash{}textasciicircum\\{\\}2)] 1.00262941392913\n",
       "\\item[AI\\textbackslash{}\\_Response\\textbackslash{}\\_Time] 1.00309578807103\n",
       "\\item[PCA\\textbackslash{}\\_1] 1.00451849986751\n",
       "\\item[Overall\\textbackslash{}\\_Usage\\textbackslash{}\\_Frequency] 1.00292877455097\n",
       "\\item[I(AI\\textbackslash{}\\_Response\\textbackslash{}\\_Time\\textbackslash{}textasciicircum\\{\\}2)] 1.00322522009357\n",
       "\\item[I(Customer\\textbackslash{}\\_Service\\textbackslash{}\\_Interactions\\textbackslash{}textasciicircum\\{\\}2)] 1.00251773835416\n",
       "\\item[I(Change\\textbackslash{}\\_in\\textbackslash{}\\_Usage\\textbackslash{}\\_Patterns\\textbackslash{}textasciicircum\\{\\}2)] 1.00181975587166\n",
       "\\item[Change\\textbackslash{}\\_in\\textbackslash{}\\_Usage\\textbackslash{}\\_Patterns] 1.00197318087206\n",
       "\\item[Customer\\textbackslash{}\\_Service\\textbackslash{}\\_Interactions] 1.00287541357564\n",
       "\\item[PCA\\textbackslash{}\\_1:Overall\\textbackslash{}\\_Usage\\textbackslash{}\\_Frequency] 1.00264556137016\n",
       "\\end{description*}\n"
      ],
      "text/markdown": [
       "Age\n",
       ":   2.66856885257122AI_Interaction_Level\n",
       ":   2.67451898873687I(Age^2)\n",
       ":   1.00262941392913AI_Response_Time\n",
       ":   1.00309578807103PCA_1\n",
       ":   1.00451849986751Overall_Usage_Frequency\n",
       ":   1.00292877455097I(AI_Response_Time^2)\n",
       ":   1.00322522009357I(Customer_Service_Interactions^2)\n",
       ":   1.00251773835416I(Change_in_Usage_Patterns^2)\n",
       ":   1.00181975587166Change_in_Usage_Patterns\n",
       ":   1.00197318087206Customer_Service_Interactions\n",
       ":   1.00287541357564PCA_1:Overall_Usage_Frequency\n",
       ":   1.00264556137016\n",
       "\n"
      ],
      "text/plain": [
       "                               Age               AI_Interaction_Level \n",
       "                          2.668569                           2.674519 \n",
       "                          I(Age^2)                   AI_Response_Time \n",
       "                          1.002629                           1.003096 \n",
       "                             PCA_1            Overall_Usage_Frequency \n",
       "                          1.004518                           1.002929 \n",
       "             I(AI_Response_Time^2) I(Customer_Service_Interactions^2) \n",
       "                          1.003225                           1.002518 \n",
       "     I(Change_in_Usage_Patterns^2)           Change_in_Usage_Patterns \n",
       "                          1.001820                           1.001973 \n",
       "     Customer_Service_Interactions      PCA_1:Overall_Usage_Frequency \n",
       "                          1.002875                           1.002646 "
      ]
     },
     "metadata": {},
     "output_type": "display_data"
    }
   ],
   "source": [
    "vif_values <- vif(model_inter,type = \"predictor\")\n",
    "vif_values"
   ]
  },
  {
   "cell_type": "markdown",
   "id": "bc259d26-7f6b-4889-9b0c-17f77507d749",
   "metadata": {},
   "source": [
    "All vif values look good(<5), suggesting no collinearity exist."
   ]
  },
  {
   "cell_type": "markdown",
   "id": "a7982475-2afc-4b68-b60e-21e12aa0747c",
   "metadata": {},
   "source": [
    "#### McFadden's R-squared"
   ]
  },
  {
   "cell_type": "code",
   "execution_count": 318,
   "id": "7eca3591-d34f-4dfd-b449-b62ff70adbe3",
   "metadata": {},
   "outputs": [
    {
     "data": {
      "text/plain": [
       "'log Lik.' 0.02901727 (df=11)"
      ]
     },
     "metadata": {},
     "output_type": "display_data"
    }
   ],
   "source": [
    "# Fit the null model\n",
    "null_model <- glm(Customer_Churn ~ 1, data = train_centered, family = binomial)\n",
    "\n",
    "# Extract log-likelihoods\n",
    "logLik_full <- logLik(model_no_age2)\n",
    "logLik_null <- logLik(null_model)\n",
    "\n",
    "# Calculate McFadden's R-squared\n",
    "mcfadden_r_squared <- 1 - (logLik_full/logLik_null)\n",
    "mcfadden_r_squared"
   ]
  },
  {
   "cell_type": "markdown",
   "id": "d15adaae-c7e9-442e-acb0-cc6ce244b0f9",
   "metadata": {},
   "source": [
    "Given a very small McFadden's R-squared(very far from 1), meaning the worse fitting."
   ]
  },
  {
   "cell_type": "code",
   "execution_count": 319,
   "id": "fbed1ca4-64cf-426b-90bf-f729ee51c86e",
   "metadata": {},
   "outputs": [
    {
     "data": {
      "text/plain": [
       "\n",
       "\tHosmer and Lemeshow goodness of fit (GOF) test\n",
       "\n",
       "data:  churn_numeric, predicted_probs\n",
       "X-squared = 21630, df = 8, p-value < 2.2e-16\n"
      ]
     },
     "metadata": {},
     "output_type": "display_data"
    }
   ],
   "source": [
    "churn_numeric <- as.numeric(as.character(train_centered$Customer_Churn)) - 1\n",
    "# Get the predicted probabilities\n",
    "predicted_probs <- fitted(model_no_age2)\n",
    "# Perform the Hosmer-Lemeshow goodness of fit test\n",
    "hoslem_test_result <- hoslem.test(churn_numeric, predicted_probs)\n",
    "hoslem_test_result"
   ]
  },
  {
   "cell_type": "markdown",
   "id": "5fdc20dc-998e-4d71-b324-26444ed9d4fb",
   "metadata": {},
   "source": [
    "#### Comment\n",
    "It seems that the simple logistic regression isn't capturing the relationships in our data well, so we decide to try other modeling approaches that can handle complex interactions and non-linear relationships, such as tree-based methods."
   ]
  },
  {
   "cell_type": "markdown",
   "id": "ec7be7f8-5af5-4f07-847e-df0970c15e59",
   "metadata": {},
   "source": [
    "### Create tree model"
   ]
  },
  {
   "cell_type": "code",
   "execution_count": 320,
   "id": "172c79fa-fc8b-44ff-8365-99d764d27e85",
   "metadata": {},
   "outputs": [],
   "source": [
    "tree_model <- rpart(Customer_Churn ~  Age + AI_Interaction_Level + \n",
    "                         AI_Response_Time + PCA_1 + \n",
    "                         I(AI_Response_Time^2) +  \n",
    "                         I(Customer_Service_Interactions^2) + I(Change_in_Usage_Patterns^2) +\n",
    "                         Change_in_Usage_Patterns + Overall_Usage_Frequency ,\n",
    "                    data = train_centered, \n",
    "                    method = \"class\")\n"
   ]
  },
  {
   "cell_type": "code",
   "execution_count": 321,
   "id": "35d6d9de-79b9-414e-b90b-ff4c4a1149af",
   "metadata": {},
   "outputs": [
    {
     "data": {
      "image/png": "[encoded data removed]",
      "text/plain": [
       "plot without title"
      ]
     },
     "metadata": {
      "image/png": {
       "height": 420,
       "width": 420
      }
     },
     "output_type": "display_data"
    }
   ],
   "source": [
    "rpart.plot(tree_model)"
   ]
  },
  {
   "cell_type": "code",
   "execution_count": 322,
   "id": "0fb7c73e-a902-4bef-b919-ab0911ee831a",
   "metadata": {},
   "outputs": [
    {
     "data": {
      "text/html": [
       "0.0136298421807747"
      ],
      "text/latex": [
       "0.0136298421807747"
      ],
      "text/markdown": [
       "0.0136298421807747"
      ],
      "text/plain": [
       "[1] 0.01362984"
      ]
     },
     "metadata": {},
     "output_type": "display_data"
    }
   ],
   "source": [
    "optimal_cp <- tree_model$cptable[which.min(tree_model$cptable[,\"xerror\"]), \"CP\"]\n",
    "optimal_cp"
   ]
  },
  {
   "cell_type": "code",
   "execution_count": 323,
   "id": "2f2405d7-5d4f-4da2-86fa-db50757a302f",
   "metadata": {},
   "outputs": [],
   "source": [
    "# Ensure the column names used match those in the training data\n",
    "columns_to_scale <- c(\"Satisfaction_with_AI_Services\", \"AI_Personalization_Effectiveness\")\n",
    "\n",
    "# Scale the test data using the center and scale of the training data obtained during PCA\n",
    "scaled_test_data <- scale(test_data[, columns_to_scale], \n",
    "                          center = pca_result$center, \n",
    "                          scale = pca_result$scale)\n",
    "\n",
    "# Apply PCA transformation to the test data\n",
    "test_data_PCA <- predict(pca_result, newdata = scaled_test_data)\n",
    "\n",
    "# Add the first principal component to your test data\n",
    "test_data$PCA_1 <- test_data_PCA[, 1]\n"
   ]
  },
  {
   "cell_type": "code",
   "execution_count": 324,
   "id": "cb92c9f5-fb6b-4768-be56-929e21d35d17",
   "metadata": {},
   "outputs": [
    {
     "name": "stdout",
     "output_type": "stream",
     "text": [
      "   prediction\n",
      "      0   1\n",
      "  0 537 177\n",
      "  1 335 201\n"
     ]
    }
   ],
   "source": [
    "prediction <- predict(tree_model, newdata = test_data, type = \"class\")\n",
    "confusion_matrix <- table(test_data$Customer_Churn, prediction)\n",
    "print(confusion_matrix)\n"
   ]
  },
  {
   "cell_type": "code",
   "execution_count": 325,
   "id": "6eed4594-8ded-49db-a07c-66a48982e575",
   "metadata": {},
   "outputs": [
    {
     "data": {
      "text/html": [
       "0.5904"
      ],
      "text/latex": [
       "0.5904"
      ],
      "text/markdown": [
       "0.5904"
      ],
      "text/plain": [
       "[1] 0.5904"
      ]
     },
     "metadata": {},
     "output_type": "display_data"
    }
   ],
   "source": [
    "accuracy <- sum(diag(confusion_matrix)) / sum(confusion_matrix)\n",
    "accuracy"
   ]
  },
  {
   "cell_type": "markdown",
   "id": "5d165962-dd3a-4627-a818-4e9e5fefb7b4",
   "metadata": {},
   "source": [
    "To get a more accurate estimation of our model's performance, consider performing cross-validation."
   ]
  },
  {
   "cell_type": "code",
   "execution_count": 326,
   "id": "52e74e2c-85eb-4d4b-acd2-e5eb774eedbd",
   "metadata": {},
   "outputs": [
    {
     "data": {
      "text/html": [
       "5000"
      ],
      "text/latex": [
       "5000"
      ],
      "text/markdown": [
       "5000"
      ],
      "text/plain": [
       "[1] 5000"
      ]
     },
     "metadata": {},
     "output_type": "display_data"
    }
   ],
   "source": [
    "nrow(train_data)"
   ]
  },
  {
   "cell_type": "code",
   "execution_count": 327,
   "id": "01855795-7ae5-4216-a2dd-6d42e84631d9",
   "metadata": {},
   "outputs": [
    {
     "name": "stdout",
     "output_type": "stream",
     "text": [
      "CART \n",
      "\n",
      "5000 samples\n",
      "   7 predictor\n",
      "   2 classes: '0', '1' \n",
      "\n",
      "No pre-processing\n",
      "Resampling: Cross-Validated (50 fold) \n",
      "Summary of sample sizes: 4900, 4901, 4900, 4900, 4901, 4900, ... \n",
      "Resampling results across tuning parameters:\n",
      "\n",
      "  cp          Accuracy   Kappa     \n",
      "  0.01123864  0.5838388  0.08462075\n",
      "  0.01291248  0.5810346  0.05826208\n",
      "  0.01362984  0.5740245  0.02204784\n",
      "\n",
      "Accuracy was used to select the optimal model using the largest value.\n",
      "The final value used for the model was cp = 0.01123864.\n"
     ]
    }
   ],
   "source": [
    "set.seed(4503)\n",
    "train_centered$Customer_Churn <- factor(train_centered$Customer_Churn, levels = c(\"0\", \"1\"))\n",
    "# Define train control\n",
    "train_control <- trainControl(method = \"cv\", number = 50)\n",
    "\n",
    "# Train the model with cross-validation\n",
    "cv_model <- train(Customer_Churn ~  Age + AI_Interaction_Level + \n",
    "                         AI_Response_Time + PCA_1 + \n",
    "                         I(AI_Response_Time^2) +  \n",
    "                         I(Customer_Service_Interactions^2) + I(Change_in_Usage_Patterns^2) +\n",
    "                         Change_in_Usage_Patterns + Overall_Usage_Frequency ,\n",
    "                  data = train_centered, method = \"rpart\",\n",
    "                  trControl = train_control)\n",
    "\n",
    "# Access cross-validated results\n",
    "print(cv_model)"
   ]
  },
  {
   "cell_type": "code",
   "execution_count": 328,
   "id": "9793d753-7f9e-454a-bc81-b77da3f44755",
   "metadata": {},
   "outputs": [
    {
     "data": {
      "text/html": [
       "0.5904"
      ],
      "text/latex": [
       "0.5904"
      ],
      "text/markdown": [
       "0.5904"
      ],
      "text/plain": [
       "[1] 0.5904"
      ]
     },
     "metadata": {},
     "output_type": "display_data"
    }
   ],
   "source": [
    "prediction_cv <- predict(cv_model, newdata = test_data, type = \"raw\")\n",
    "confusion_matrix_cv <- table(test_data$Customer_Churn, prediction_cv)\n",
    "accuracy <- sum(diag(confusion_matrix)) / sum(confusion_matrix_cv)\n",
    "accuracy\n"
   ]
  },
  {
   "cell_type": "code",
   "execution_count": 329,
   "id": "9679a85d-82e0-4836-a56c-af9e4f70b34d",
   "metadata": {},
   "outputs": [
    {
     "name": "stdout",
     "output_type": "stream",
     "text": [
      "          cp\n",
      "1 0.01123864\n",
      "\n",
      "Classification tree:\n",
      "rpart(formula = Customer_Churn ~ Age + AI_Interaction_Level + \n",
      "    AI_Response_Time + PCA_1 + I(AI_Response_Time^2) + I(Customer_Service_Interactions^2) + \n",
      "    I(Change_in_Usage_Patterns^2) + Change_in_Usage_Patterns + \n",
      "    Overall_Usage_Frequency, data = train_centered, method = \"class\")\n",
      "\n",
      "Variables actually used in tree construction:\n",
      "[1] AI_Interaction_Level               AI_Response_Time                  \n",
      "[3] Change_in_Usage_Patterns           I(Customer_Service_Interactions^2)\n",
      "[5] Overall_Usage_Frequency            PCA_1                             \n",
      "\n",
      "Root node error: 2091/5000 = 0.4182\n",
      "\n",
      "n= 5000 \n",
      "\n",
      "        CP nsplit rel error xerror     xstd\n",
      "1 0.013630      0   1.00000 1.0000 0.016681\n",
      "2 0.012912      2   0.97274 1.0320 0.016749\n",
      "3 0.011239      3   0.95983 1.0340 0.016753\n",
      "4 0.010282      5   0.93735 1.0172 0.016719\n",
      "5 0.010000      7   0.91679 1.0182 0.016721\n"
     ]
    }
   ],
   "source": [
    "print(cv_model$bestTune)\n",
    "\n",
    "# For the rpart model (this will show you the cp value used if you didn't set it manually)\n",
    "printcp(tree_model)"
   ]
  },
  {
   "cell_type": "markdown",
   "id": "441fae2b-16dd-4844-9b1b-ddb4fbde0ff2",
   "metadata": {},
   "source": [
    "#### Train a RandomForest Model:"
   ]
  },
  {
   "cell_type": "code",
   "execution_count": 330,
   "id": "6b417301-c930-4ccb-b3f8-9deb74404260",
   "metadata": {},
   "outputs": [
    {
     "name": "stderr",
     "output_type": "stream",
     "text": [
      "Installing package into ‘/home/jupyter/R/x86_64-pc-linux-gnu-library/4.3’\n",
      "(as ‘lib’ is unspecified)\n",
      "\n"
     ]
    }
   ],
   "source": [
    "install.packages(\"randomForest\")\n",
    "library(randomForest)"
   ]
  },
  {
   "cell_type": "code",
   "execution_count": 331,
   "id": "1217ff8a-78ed-4ebc-ad8d-a11cfaef4dc1",
   "metadata": {},
   "outputs": [
    {
     "data": {
      "image/png": "[encoded data removed]",
      "text/plain": [
       "Plot with title “rf_model”"
      ]
     },
     "metadata": {
      "image/png": {
       "height": 420,
       "width": 420
      }
     },
     "output_type": "display_data"
    }
   ],
   "source": [
    "set.seed(4503)  # For reproducibility\n",
    "\n",
    "rf_model <- randomForest(Customer_Churn ~ Age + AI_Interaction_Level + \n",
    "                         AI_Response_Time + PCA_1 + Customer_Service_Interactions +\n",
    "                         I(AI_Response_Time^2) +  \n",
    "                         I(Customer_Service_Interactions^2) + I(Change_in_Usage_Patterns^2) +\n",
    "                         Change_in_Usage_Patterns + Overall_Usage_Frequency , \n",
    "                         data=train_centered, ntree=500, mtry=3)\n",
    "# visualize the error rates as more trees are added\n",
    "plot(rf_model)"
   ]
  },
  {
   "cell_type": "markdown",
   "id": "1b929047-b6e5-4d6f-a421-d8031a491272",
   "metadata": {},
   "source": [
    "#### Fine-Tuning:"
   ]
  },
  {
   "cell_type": "code",
   "execution_count": 332,
   "id": "c1e52c10-b131-475f-903c-b0eb50e839cb",
   "metadata": {},
   "outputs": [
    {
     "name": "stdout",
     "output_type": "stream",
     "text": [
      "mtry = 3  OOB error = 42.28% \n",
      "Searching left ...\n",
      "mtry = 6 \tOOB error = 42.96% \n",
      "-0.01608325 0.01 \n",
      "Searching right ...\n",
      "mtry = 1 \tOOB error = 42.74% \n",
      "-0.01087985 0.01 \n"
     ]
    },
    {
     "data": {
      "image/png": "[encoded data removed]",
      "text/plain": [
       "plot without title"
      ]
     },
     "metadata": {
      "image/png": {
       "height": 420,
       "width": 420
      }
     },
     "output_type": "display_data"
    }
   ],
   "source": [
    "tuned_rf_model <- tuneRF(train_centered[, -which(names(train_centered) == \"Customer_Churn\")],\n",
    "                         train_centered$Customer_Churn,\n",
    "                         stepFactor=0.5,\n",
    "                         improve=0.01,\n",
    "                         ntreeTry=500,\n",
    "                         trace=TRUE,\n",
    "                         plot=TRUE)\n"
   ]
  },
  {
   "cell_type": "markdown",
   "id": "7b8d3946-c347-41f9-88c0-fe1a724a1c0f",
   "metadata": {},
   "source": [
    "In this case, based on the plot, the optimal value of mtry for this particular random forest model seems to be 3, as it gives the lowest OOB error rate, meaning the model has the best generalization performance with this parameter setting."
   ]
  },
  {
   "cell_type": "markdown",
   "id": "28429bee-8aaa-4f13-abd8-3ab44ffbd23c",
   "metadata": {},
   "source": [
    "#### Further investigation(fine-tune the model)"
   ]
  },
  {
   "cell_type": "code",
   "execution_count": 333,
   "id": "1b852d53-d2f9-4e21-b353-cbc2ab52e57b",
   "metadata": {},
   "outputs": [
    {
     "data": {
      "text/html": [
       "<table class=\"dataframe\">\n",
       "<caption>A data.frame: 8 × 2</caption>\n",
       "<thead>\n",
       "\t<tr><th scope=col>mtry</th><th scope=col>OOB_Error</th></tr>\n",
       "\t<tr><th scope=col>&lt;int&gt;</th><th scope=col>&lt;dbl&gt;</th></tr>\n",
       "</thead>\n",
       "<tbody>\n",
       "\t<tr><td> 3</td><td>0.4312</td></tr>\n",
       "\t<tr><td> 4</td><td>0.4306</td></tr>\n",
       "\t<tr><td> 5</td><td>0.4292</td></tr>\n",
       "\t<tr><td> 6</td><td>0.4280</td></tr>\n",
       "\t<tr><td> 7</td><td>0.4274</td></tr>\n",
       "\t<tr><td> 8</td><td>0.4304</td></tr>\n",
       "\t<tr><td> 9</td><td>0.4284</td></tr>\n",
       "\t<tr><td>10</td><td>0.4278</td></tr>\n",
       "</tbody>\n",
       "</table>\n"
      ],
      "text/latex": [
       "A data.frame: 8 × 2\n",
       "\\begin{tabular}{ll}\n",
       " mtry & OOB\\_Error\\\\\n",
       " <int> & <dbl>\\\\\n",
       "\\hline\n",
       "\t  3 & 0.4312\\\\\n",
       "\t  4 & 0.4306\\\\\n",
       "\t  5 & 0.4292\\\\\n",
       "\t  6 & 0.4280\\\\\n",
       "\t  7 & 0.4274\\\\\n",
       "\t  8 & 0.4304\\\\\n",
       "\t  9 & 0.4284\\\\\n",
       "\t 10 & 0.4278\\\\\n",
       "\\end{tabular}\n"
      ],
      "text/markdown": [
       "\n",
       "A data.frame: 8 × 2\n",
       "\n",
       "| mtry &lt;int&gt; | OOB_Error &lt;dbl&gt; |\n",
       "|---|---|\n",
       "|  3 | 0.4312 |\n",
       "|  4 | 0.4306 |\n",
       "|  5 | 0.4292 |\n",
       "|  6 | 0.4280 |\n",
       "|  7 | 0.4274 |\n",
       "|  8 | 0.4304 |\n",
       "|  9 | 0.4284 |\n",
       "| 10 | 0.4278 |\n",
       "\n"
      ],
      "text/plain": [
       "  mtry OOB_Error\n",
       "1  3   0.4312   \n",
       "2  4   0.4306   \n",
       "3  5   0.4292   \n",
       "4  6   0.4280   \n",
       "5  7   0.4274   \n",
       "6  8   0.4304   \n",
       "7  9   0.4284   \n",
       "8 10   0.4278   "
      ]
     },
     "metadata": {},
     "output_type": "display_data"
    }
   ],
   "source": [
    "mtry_values <- 3:10\n",
    "oob_errors <- numeric(length(mtry_values))\n",
    "\n",
    "# Train a random forest model for each mtry value and record the OOB error\n",
    "for (i in seq_along(mtry_values)) {\n",
    "  rf_model <- randomForest(Customer_Churn ~ ., data = train_centered, mtry = mtry_values[i], ntree = 500)\n",
    "  oob_errors[i] <- rf_model$err.rate[500, \"OOB\"]\n",
    "}\n",
    "\n",
    "# Combine the mtry values and their corresponding OOB errors\n",
    "tuning_results <- data.frame(mtry = mtry_values, OOB_Error = oob_errors)\n",
    "tuning_results"
   ]
  },
  {
   "cell_type": "code",
   "execution_count": 334,
   "id": "4597ccbb-255b-4a33-a38b-2fc2a23f3b84",
   "metadata": {},
   "outputs": [
    {
     "name": "stdout",
     "output_type": "stream",
     "text": [
      "Best mtry value: 7 with OOB error: 0.4274 \n"
     ]
    }
   ],
   "source": [
    "# Find the mtry value with the lowest OOB error\n",
    "best_mtry <- tuning_results$mtry[which.min(tuning_results$OOB_Error)]\n",
    "best_oob_error <- min(tuning_results$OOB_Error)\n",
    "\n",
    "# Print the best mtry value and the corresponding OOB error\n",
    "cat(\"Best mtry value:\", best_mtry, \"with OOB error:\", best_oob_error, \"\\n\")\n"
   ]
  },
  {
   "cell_type": "markdown",
   "id": "b5325d41-7e4d-4620-9863-25ec89fe04f6",
   "metadata": {},
   "source": [
    "#### Train the random forest model using the best mtry value"
   ]
  },
  {
   "cell_type": "code",
   "execution_count": 335,
   "id": "c5ad2587-bf97-4906-99a8-b241c1c9e39f",
   "metadata": {},
   "outputs": [
    {
     "name": "stdout",
     "output_type": "stream",
     "text": [
      "   test_predictions\n",
      "      0   1\n",
      "  0 477 237\n",
      "  1 268 268\n",
      "[1] \"Accuracy: 0.596\"\n"
     ]
    }
   ],
   "source": [
    "rf_best_model <- randomForest(Customer_Churn ~ Age + AI_Interaction_Level + \n",
    "                         AI_Response_Time + PCA_1 + Customer_Service_Interactions +\n",
    "                         I(AI_Response_Time^2) +  \n",
    "                         I(Customer_Service_Interactions^2) + I(Change_in_Usage_Patterns^2) +\n",
    "                         Change_in_Usage_Patterns + Overall_Usage_Frequency , data = train_centered, mtry = 9, ntree = 500)\n",
    "\n",
    "# Make predictions on the test set\n",
    "test_predictions <- predict(rf_best_model, newdata = test_data)\n",
    "\n",
    "# Assuming the actual test set labels are in test_data$Customer_Churn\n",
    "# Calculate the confusion matrix\n",
    "confusion_matrix <- table(test_data$Customer_Churn, test_predictions)\n",
    "\n",
    "# Calculate accuracy\n",
    "accuracy <- sum(diag(confusion_matrix)) / sum(confusion_matrix)\n",
    "\n",
    "# Print the confusion matrix and accuracy\n",
    "print(confusion_matrix)\n",
    "print(paste(\"Accuracy:\", accuracy))\n"
   ]
  },
  {
   "cell_type": "markdown",
   "id": "51449f1d-227b-43ef-b608-39529484a93d",
   "metadata": {},
   "source": [
    "#### more detailed performance analysis"
   ]
  },
  {
   "cell_type": "code",
   "execution_count": 336,
   "id": "7184849a-9003-444d-bdff-b2f785230800",
   "metadata": {},
   "outputs": [
    {
     "name": "stderr",
     "output_type": "stream",
     "text": [
      "Setting levels: control = 0, case = 1\n",
      "\n",
      "Setting direction: controls < cases\n",
      "\n"
     ]
    },
    {
     "name": "stdout",
     "output_type": "stream",
     "text": [
      "[1] \"AUC: 0.611051883439943\"\n"
     ]
    }
   ],
   "source": [
    "suppressPackageStartupMessages(library(pROC))\n",
    "\n",
    "test_probabilities <- predict(rf_best_model, newdata = test_data, type = \"prob\")[, \"1\"]\n",
    "\n",
    "# Calculate ROC and AUC\n",
    "roc_result <- roc(test_data$Customer_Churn, test_probabilities)\n",
    "auc_value <- auc(roc_result)\n",
    "\n",
    "# Print the AUC value\n",
    "print(paste(\"AUC:\", auc_value))"
   ]
  },
  {
   "cell_type": "markdown",
   "id": "8c078b4d-9cc5-4dc2-9321-74008ab354de",
   "metadata": {},
   "source": [
    "AUC: 0.616 suggests that our model has a modest ability to discriminate between the classes, performing better than random guessing but far from perfect."
   ]
  },
  {
   "cell_type": "markdown",
   "id": "6db1d4b0-582c-4a8f-a6aa-42ea5763ddca",
   "metadata": {},
   "source": [
    "#### Create dummy variables"
   ]
  },
  {
   "cell_type": "code",
   "execution_count": 344,
   "id": "d1de8bd3-d24e-440f-8254-a887315a50a7",
   "metadata": {},
   "outputs": [
    {
     "data": {
      "text/html": [
       "<style>\n",
       ".list-inline {list-style: none; margin:0; padding: 0}\n",
       ".list-inline>li {display: inline-block}\n",
       ".list-inline>li:not(:last-child)::after {content: \"\\00b7\"; padding: 0 .5ex}\n",
       "</style>\n",
       "<ol class=list-inline><li>'-0.9816'</li><li>'0.0184'</li><li>'1.0184'</li></ol>\n"
      ],
      "text/latex": [
       "\\begin{enumerate*}\n",
       "\\item '-0.9816'\n",
       "\\item '0.0184'\n",
       "\\item '1.0184'\n",
       "\\end{enumerate*}\n"
      ],
      "text/markdown": [
       "1. '-0.9816'\n",
       "2. '0.0184'\n",
       "3. '1.0184'\n",
       "\n",
       "\n"
      ],
      "text/plain": [
       "[1] \"-0.9816\" \"0.0184\"  \"1.0184\" "
      ]
     },
     "metadata": {},
     "output_type": "display_data"
    }
   ],
   "source": [
    "levels(train_centered$AI_Response_Time)\n"
   ]
  },
  {
   "cell_type": "code",
   "execution_count": 373,
   "id": "942f8cc4-681e-451a-932b-0f11d50aa5de",
   "metadata": {},
   "outputs": [],
   "source": [
    "# Make sure AI_Interaction_Level is a factor with correct levels and labels\n",
    "train_centered$AI_Interaction_Level <- as.factor(train_centered$AI_Interaction_Level)\n",
    "train_centered$AI_Response_Time <- factor(train_centered$AI_Response_Time,\n",
    "                                         levels = c(-0.9816, 0.0184, 1.0184),\n",
    "                                         labels = c(\"1\", \"2\", \"3\"))\n",
    "dummy_AIL <- model.matrix(~ AI_Interaction_Level - 1, data=train_centered)\n",
    "dummy_ART <- model.matrix(~ AI_Response_Time - 1, data=train_centered)\n",
    "# Convert matrices to data frames\n",
    "dummy_AIL_df <- as.data.frame(dummy_AIL)\n",
    "dummy_ART_df <- as.data.frame(dummy_ART)\n",
    "names(dummy_AIL_df) <- make.names(names(dummy_AIL_df))\n",
    "names(dummy_ART_df) <- make.names(names(dummy_ART_df))\n",
    "\n",
    "# Combine the dummy variables with the original dataset (excluding the original factor variables)\n",
    "train_transformed <- cbind(train_centered[, !(names(train_centered) %in% c(\"AI_Interaction_Level\", \"AI_Response_Time\"))],\n",
    "                           dummy_AIL_df, dummy_ART_df)\n",
    "names(train_transformed) <- make.names(names(train_transformed))"
   ]
  },
  {
   "cell_type": "code",
   "execution_count": 376,
   "id": "b0f5039c-4d6a-4c4c-b53e-58836a33e432",
   "metadata": {},
   "outputs": [
    {
     "name": "stderr",
     "output_type": "stream",
     "text": [
      "Warning message in randomForest.default(m, y, ...):\n",
      "“The response has five or fewer unique values.  Are you sure you want to do regression?”\n"
     ]
    },
    {
     "data": {
      "image/png": "[encoded data removed]",
      "text/plain": [
       "Plot with title “rf_model_transformed”"
      ]
     },
     "metadata": {
      "image/png": {
       "height": 420,
       "width": 420
      }
     },
     "output_type": "display_data"
    }
   ],
   "source": [
    "set.seed(4503)  \n",
    "\n",
    "rf_model_transformed <- randomForest(Customer_Churn ~ ., \n",
    "                                     data=train_transformed, \n",
    "                                     ntree=500, \n",
    "                                     mtry=9)\n",
    "\n",
    "# Visualize the error rates as more trees are added\n",
    "plot(rf_model_transformed)"
   ]
  },
  {
   "cell_type": "code",
   "execution_count": 374,
   "id": "bf983777-5b97-4c7c-8e62-3c048c4d9794",
   "metadata": {},
   "outputs": [
    {
     "data": {
      "text/html": [
       "<table class=\"dataframe\">\n",
       "<caption>A data.frame: 6 × 16</caption>\n",
       "<thead>\n",
       "\t<tr><th></th><th scope=col>ID</th><th scope=col>Age</th><th scope=col>Satisfaction_with_AI_Services</th><th scope=col>AI_Personalization_Effectiveness</th><th scope=col>Overall_Usage_Frequency</th><th scope=col>Customer_Service_Interactions</th><th scope=col>Change_in_Usage_Patterns</th><th scope=col>Customer_Churn</th><th scope=col>PCA_1</th><th scope=col>AI_Interaction_Level1</th><th scope=col>AI_Interaction_Level2</th><th scope=col>AI_Interaction_Level3</th><th scope=col>AI_Interaction_Level4</th><th scope=col>AI_Response_Time1</th><th scope=col>AI_Response_Time2</th><th scope=col>AI_Response_Time3</th></tr>\n",
       "\t<tr><th></th><th scope=col>&lt;int&gt;</th><th scope=col>&lt;dbl&gt;</th><th scope=col>&lt;int&gt;</th><th scope=col>&lt;dbl&gt;</th><th scope=col>&lt;dbl&gt;</th><th scope=col>&lt;dbl&gt;</th><th scope=col>&lt;dbl&gt;</th><th scope=col>&lt;int&gt;</th><th scope=col>&lt;dbl&gt;</th><th scope=col>&lt;dbl&gt;</th><th scope=col>&lt;dbl&gt;</th><th scope=col>&lt;dbl&gt;</th><th scope=col>&lt;dbl&gt;</th><th scope=col>&lt;dbl&gt;</th><th scope=col>&lt;dbl&gt;</th><th scope=col>&lt;dbl&gt;</th></tr>\n",
       "</thead>\n",
       "<tbody>\n",
       "\t<tr><th scope=row>1</th><td>1</td><td> 16.425</td><td>7</td><td> 1.4742</td><td>  2.485</td><td>-0.0662</td><td> 2.005</td><td>1</td><td>-0.729098306</td><td>0</td><td>1</td><td>0</td><td>0</td><td>0</td><td>1</td><td>0</td></tr>\n",
       "\t<tr><th scope=row>2</th><td>2</td><td>  6.425</td><td>6</td><td>-0.5258</td><td>-12.515</td><td>-3.0662</td><td> 0.005</td><td>0</td><td> 0.008100349</td><td>0</td><td>1</td><td>0</td><td>0</td><td>1</td><td>0</td><td>0</td></tr>\n",
       "\t<tr><th scope=row>3</th><td>3</td><td> -7.575</td><td>3</td><td>-2.5258</td><td> -7.515</td><td>-3.0662</td><td> 1.005</td><td>1</td><td> 1.239009432</td><td>0</td><td>1</td><td>0</td><td>0</td><td>0</td><td>0</td><td>1</td></tr>\n",
       "\t<tr><th scope=row>4</th><td>4</td><td> 20.425</td><td>3</td><td>-2.5258</td><td> -9.515</td><td> 0.9338</td><td> 2.005</td><td>1</td><td> 1.239009432</td><td>0</td><td>1</td><td>0</td><td>0</td><td>0</td><td>1</td><td>0</td></tr>\n",
       "\t<tr><th scope=row>5</th><td>5</td><td>-14.575</td><td>6</td><td> 0.4742</td><td> -4.515</td><td>-2.0662</td><td>-0.995</td><td>0</td><td>-0.237071372</td><td>0</td><td>0</td><td>0</td><td>1</td><td>1</td><td>0</td><td>0</td></tr>\n",
       "\t<tr><th scope=row>6</th><td>6</td><td> -1.575</td><td>1</td><td>-4.5258</td><td> 12.485</td><td>-3.0662</td><td>-0.995</td><td>0</td><td> 2.223063301</td><td>0</td><td>0</td><td>1</td><td>0</td><td>0</td><td>0</td><td>1</td></tr>\n",
       "</tbody>\n",
       "</table>\n"
      ],
      "text/latex": [
       "A data.frame: 6 × 16\n",
       "\\begin{tabular}{r|llllllllllllllll}\n",
       "  & ID & Age & Satisfaction\\_with\\_AI\\_Services & AI\\_Personalization\\_Effectiveness & Overall\\_Usage\\_Frequency & Customer\\_Service\\_Interactions & Change\\_in\\_Usage\\_Patterns & Customer\\_Churn & PCA\\_1 & AI\\_Interaction\\_Level1 & AI\\_Interaction\\_Level2 & AI\\_Interaction\\_Level3 & AI\\_Interaction\\_Level4 & AI\\_Response\\_Time1 & AI\\_Response\\_Time2 & AI\\_Response\\_Time3\\\\\n",
       "  & <int> & <dbl> & <int> & <dbl> & <dbl> & <dbl> & <dbl> & <int> & <dbl> & <dbl> & <dbl> & <dbl> & <dbl> & <dbl> & <dbl> & <dbl>\\\\\n",
       "\\hline\n",
       "\t1 & 1 &  16.425 & 7 &  1.4742 &   2.485 & -0.0662 &  2.005 & 1 & -0.729098306 & 0 & 1 & 0 & 0 & 0 & 1 & 0\\\\\n",
       "\t2 & 2 &   6.425 & 6 & -0.5258 & -12.515 & -3.0662 &  0.005 & 0 &  0.008100349 & 0 & 1 & 0 & 0 & 1 & 0 & 0\\\\\n",
       "\t3 & 3 &  -7.575 & 3 & -2.5258 &  -7.515 & -3.0662 &  1.005 & 1 &  1.239009432 & 0 & 1 & 0 & 0 & 0 & 0 & 1\\\\\n",
       "\t4 & 4 &  20.425 & 3 & -2.5258 &  -9.515 &  0.9338 &  2.005 & 1 &  1.239009432 & 0 & 1 & 0 & 0 & 0 & 1 & 0\\\\\n",
       "\t5 & 5 & -14.575 & 6 &  0.4742 &  -4.515 & -2.0662 & -0.995 & 0 & -0.237071372 & 0 & 0 & 0 & 1 & 1 & 0 & 0\\\\\n",
       "\t6 & 6 &  -1.575 & 1 & -4.5258 &  12.485 & -3.0662 & -0.995 & 0 &  2.223063301 & 0 & 0 & 1 & 0 & 0 & 0 & 1\\\\\n",
       "\\end{tabular}\n"
      ],
      "text/markdown": [
       "\n",
       "A data.frame: 6 × 16\n",
       "\n",
       "| <!--/--> | ID &lt;int&gt; | Age &lt;dbl&gt; | Satisfaction_with_AI_Services &lt;int&gt; | AI_Personalization_Effectiveness &lt;dbl&gt; | Overall_Usage_Frequency &lt;dbl&gt; | Customer_Service_Interactions &lt;dbl&gt; | Change_in_Usage_Patterns &lt;dbl&gt; | Customer_Churn &lt;int&gt; | PCA_1 &lt;dbl&gt; | AI_Interaction_Level1 &lt;dbl&gt; | AI_Interaction_Level2 &lt;dbl&gt; | AI_Interaction_Level3 &lt;dbl&gt; | AI_Interaction_Level4 &lt;dbl&gt; | AI_Response_Time1 &lt;dbl&gt; | AI_Response_Time2 &lt;dbl&gt; | AI_Response_Time3 &lt;dbl&gt; |\n",
       "|---|---|---|---|---|---|---|---|---|---|---|---|---|---|---|---|---|\n",
       "| 1 | 1 |  16.425 | 7 |  1.4742 |   2.485 | -0.0662 |  2.005 | 1 | -0.729098306 | 0 | 1 | 0 | 0 | 0 | 1 | 0 |\n",
       "| 2 | 2 |   6.425 | 6 | -0.5258 | -12.515 | -3.0662 |  0.005 | 0 |  0.008100349 | 0 | 1 | 0 | 0 | 1 | 0 | 0 |\n",
       "| 3 | 3 |  -7.575 | 3 | -2.5258 |  -7.515 | -3.0662 |  1.005 | 1 |  1.239009432 | 0 | 1 | 0 | 0 | 0 | 0 | 1 |\n",
       "| 4 | 4 |  20.425 | 3 | -2.5258 |  -9.515 |  0.9338 |  2.005 | 1 |  1.239009432 | 0 | 1 | 0 | 0 | 0 | 1 | 0 |\n",
       "| 5 | 5 | -14.575 | 6 |  0.4742 |  -4.515 | -2.0662 | -0.995 | 0 | -0.237071372 | 0 | 0 | 0 | 1 | 1 | 0 | 0 |\n",
       "| 6 | 6 |  -1.575 | 1 | -4.5258 |  12.485 | -3.0662 | -0.995 | 0 |  2.223063301 | 0 | 0 | 1 | 0 | 0 | 0 | 1 |\n",
       "\n"
      ],
      "text/plain": [
       "  ID Age     Satisfaction_with_AI_Services AI_Personalization_Effectiveness\n",
       "1 1   16.425 7                              1.4742                         \n",
       "2 2    6.425 6                             -0.5258                         \n",
       "3 3   -7.575 3                             -2.5258                         \n",
       "4 4   20.425 3                             -2.5258                         \n",
       "5 5  -14.575 6                              0.4742                         \n",
       "6 6   -1.575 1                             -4.5258                         \n",
       "  Overall_Usage_Frequency Customer_Service_Interactions\n",
       "1   2.485                 -0.0662                      \n",
       "2 -12.515                 -3.0662                      \n",
       "3  -7.515                 -3.0662                      \n",
       "4  -9.515                  0.9338                      \n",
       "5  -4.515                 -2.0662                      \n",
       "6  12.485                 -3.0662                      \n",
       "  Change_in_Usage_Patterns Customer_Churn PCA_1        AI_Interaction_Level1\n",
       "1  2.005                   1              -0.729098306 0                    \n",
       "2  0.005                   0               0.008100349 0                    \n",
       "3  1.005                   1               1.239009432 0                    \n",
       "4  2.005                   1               1.239009432 0                    \n",
       "5 -0.995                   0              -0.237071372 0                    \n",
       "6 -0.995                   0               2.223063301 0                    \n",
       "  AI_Interaction_Level2 AI_Interaction_Level3 AI_Interaction_Level4\n",
       "1 1                     0                     0                    \n",
       "2 1                     0                     0                    \n",
       "3 1                     0                     0                    \n",
       "4 1                     0                     0                    \n",
       "5 0                     0                     1                    \n",
       "6 0                     1                     0                    \n",
       "  AI_Response_Time1 AI_Response_Time2 AI_Response_Time3\n",
       "1 0                 1                 0                \n",
       "2 1                 0                 0                \n",
       "3 0                 0                 1                \n",
       "4 0                 1                 0                \n",
       "5 1                 0                 0                \n",
       "6 0                 0                 1                "
      ]
     },
     "metadata": {},
     "output_type": "display_data"
    },
    {
     "data": {
      "text/html": [
       "<table class=\"dataframe\">\n",
       "<caption>A data.frame: 6 × 16</caption>\n",
       "<thead>\n",
       "\t<tr><th></th><th scope=col>ID</th><th scope=col>Age</th><th scope=col>Satisfaction_with_AI_Services</th><th scope=col>AI_Personalization_Effectiveness</th><th scope=col>Overall_Usage_Frequency</th><th scope=col>Customer_Service_Interactions</th><th scope=col>Change_in_Usage_Patterns</th><th scope=col>Customer_Churn</th><th scope=col>PCA_1</th><th scope=col>AI_Interaction_Level1</th><th scope=col>AI_Interaction_Level2</th><th scope=col>AI_Interaction_Level3</th><th scope=col>AI_Interaction_Level4</th><th scope=col>AI_Response_Time1</th><th scope=col>AI_Response_Time2</th><th scope=col>AI_Response_Time3</th></tr>\n",
       "\t<tr><th></th><th scope=col>&lt;int&gt;</th><th scope=col>&lt;int&gt;</th><th scope=col>&lt;int&gt;</th><th scope=col>&lt;int&gt;</th><th scope=col>&lt;int&gt;</th><th scope=col>&lt;int&gt;</th><th scope=col>&lt;int&gt;</th><th scope=col>&lt;int&gt;</th><th scope=col>&lt;dbl&gt;</th><th scope=col>&lt;dbl&gt;</th><th scope=col>&lt;dbl&gt;</th><th scope=col>&lt;dbl&gt;</th><th scope=col>&lt;dbl&gt;</th><th scope=col>&lt;dbl&gt;</th><th scope=col>&lt;dbl&gt;</th><th scope=col>&lt;dbl&gt;</th></tr>\n",
       "</thead>\n",
       "<tbody>\n",
       "\t<tr><th scope=row>1</th><td>1</td><td>59</td><td>2</td><td>3</td><td>11</td><td>5</td><td>-1</td><td>1</td><td>-0.4273789</td><td>1</td><td>0</td><td>0</td><td>0</td><td>1</td><td>0</td><td>0</td></tr>\n",
       "\t<tr><th scope=row>2</th><td>2</td><td>49</td><td>4</td><td>3</td><td> 2</td><td>0</td><td> 2</td><td>1</td><td>-0.5997362</td><td>0</td><td>0</td><td>1</td><td>0</td><td>0</td><td>1</td><td>0</td></tr>\n",
       "\t<tr><th scope=row>3</th><td>3</td><td>35</td><td>7</td><td>6</td><td>22</td><td>4</td><td> 0</td><td>1</td><td>-1.1132937</td><td>0</td><td>0</td><td>1</td><td>0</td><td>0</td><td>1</td><td>0</td></tr>\n",
       "\t<tr><th scope=row>4</th><td>4</td><td>63</td><td>8</td><td>8</td><td>25</td><td>4</td><td>-1</td><td>1</td><td>-1.3694867</td><td>0</td><td>1</td><td>0</td><td>0</td><td>1</td><td>0</td><td>0</td></tr>\n",
       "\t<tr><th scope=row>5</th><td>5</td><td>28</td><td>5</td><td>5</td><td>14</td><td>1</td><td> 1</td><td>1</td><td>-0.8559292</td><td>0</td><td>0</td><td>0</td><td>1</td><td>0</td><td>1</td><td>0</td></tr>\n",
       "\t<tr><th scope=row>6</th><td>6</td><td>41</td><td>3</td><td>2</td><td>26</td><td>4</td><td> 0</td><td>0</td><td>-0.4285503</td><td>0</td><td>1</td><td>0</td><td>0</td><td>0</td><td>0</td><td>1</td></tr>\n",
       "</tbody>\n",
       "</table>\n"
      ],
      "text/latex": [
       "A data.frame: 6 × 16\n",
       "\\begin{tabular}{r|llllllllllllllll}\n",
       "  & ID & Age & Satisfaction\\_with\\_AI\\_Services & AI\\_Personalization\\_Effectiveness & Overall\\_Usage\\_Frequency & Customer\\_Service\\_Interactions & Change\\_in\\_Usage\\_Patterns & Customer\\_Churn & PCA\\_1 & AI\\_Interaction\\_Level1 & AI\\_Interaction\\_Level2 & AI\\_Interaction\\_Level3 & AI\\_Interaction\\_Level4 & AI\\_Response\\_Time1 & AI\\_Response\\_Time2 & AI\\_Response\\_Time3\\\\\n",
       "  & <int> & <int> & <int> & <int> & <int> & <int> & <int> & <int> & <dbl> & <dbl> & <dbl> & <dbl> & <dbl> & <dbl> & <dbl> & <dbl>\\\\\n",
       "\\hline\n",
       "\t1 & 1 & 59 & 2 & 3 & 11 & 5 & -1 & 1 & -0.4273789 & 1 & 0 & 0 & 0 & 1 & 0 & 0\\\\\n",
       "\t2 & 2 & 49 & 4 & 3 &  2 & 0 &  2 & 1 & -0.5997362 & 0 & 0 & 1 & 0 & 0 & 1 & 0\\\\\n",
       "\t3 & 3 & 35 & 7 & 6 & 22 & 4 &  0 & 1 & -1.1132937 & 0 & 0 & 1 & 0 & 0 & 1 & 0\\\\\n",
       "\t4 & 4 & 63 & 8 & 8 & 25 & 4 & -1 & 1 & -1.3694867 & 0 & 1 & 0 & 0 & 1 & 0 & 0\\\\\n",
       "\t5 & 5 & 28 & 5 & 5 & 14 & 1 &  1 & 1 & -0.8559292 & 0 & 0 & 0 & 1 & 0 & 1 & 0\\\\\n",
       "\t6 & 6 & 41 & 3 & 2 & 26 & 4 &  0 & 0 & -0.4285503 & 0 & 1 & 0 & 0 & 0 & 0 & 1\\\\\n",
       "\\end{tabular}\n"
      ],
      "text/markdown": [
       "\n",
       "A data.frame: 6 × 16\n",
       "\n",
       "| <!--/--> | ID &lt;int&gt; | Age &lt;int&gt; | Satisfaction_with_AI_Services &lt;int&gt; | AI_Personalization_Effectiveness &lt;int&gt; | Overall_Usage_Frequency &lt;int&gt; | Customer_Service_Interactions &lt;int&gt; | Change_in_Usage_Patterns &lt;int&gt; | Customer_Churn &lt;int&gt; | PCA_1 &lt;dbl&gt; | AI_Interaction_Level1 &lt;dbl&gt; | AI_Interaction_Level2 &lt;dbl&gt; | AI_Interaction_Level3 &lt;dbl&gt; | AI_Interaction_Level4 &lt;dbl&gt; | AI_Response_Time1 &lt;dbl&gt; | AI_Response_Time2 &lt;dbl&gt; | AI_Response_Time3 &lt;dbl&gt; |\n",
       "|---|---|---|---|---|---|---|---|---|---|---|---|---|---|---|---|---|\n",
       "| 1 | 1 | 59 | 2 | 3 | 11 | 5 | -1 | 1 | -0.4273789 | 1 | 0 | 0 | 0 | 1 | 0 | 0 |\n",
       "| 2 | 2 | 49 | 4 | 3 |  2 | 0 |  2 | 1 | -0.5997362 | 0 | 0 | 1 | 0 | 0 | 1 | 0 |\n",
       "| 3 | 3 | 35 | 7 | 6 | 22 | 4 |  0 | 1 | -1.1132937 | 0 | 0 | 1 | 0 | 0 | 1 | 0 |\n",
       "| 4 | 4 | 63 | 8 | 8 | 25 | 4 | -1 | 1 | -1.3694867 | 0 | 1 | 0 | 0 | 1 | 0 | 0 |\n",
       "| 5 | 5 | 28 | 5 | 5 | 14 | 1 |  1 | 1 | -0.8559292 | 0 | 0 | 0 | 1 | 0 | 1 | 0 |\n",
       "| 6 | 6 | 41 | 3 | 2 | 26 | 4 |  0 | 0 | -0.4285503 | 0 | 1 | 0 | 0 | 0 | 0 | 1 |\n",
       "\n"
      ],
      "text/plain": [
       "  ID Age Satisfaction_with_AI_Services AI_Personalization_Effectiveness\n",
       "1 1  59  2                             3                               \n",
       "2 2  49  4                             3                               \n",
       "3 3  35  7                             6                               \n",
       "4 4  63  8                             8                               \n",
       "5 5  28  5                             5                               \n",
       "6 6  41  3                             2                               \n",
       "  Overall_Usage_Frequency Customer_Service_Interactions\n",
       "1 11                      5                            \n",
       "2  2                      0                            \n",
       "3 22                      4                            \n",
       "4 25                      4                            \n",
       "5 14                      1                            \n",
       "6 26                      4                            \n",
       "  Change_in_Usage_Patterns Customer_Churn PCA_1      AI_Interaction_Level1\n",
       "1 -1                       1              -0.4273789 1                    \n",
       "2  2                       1              -0.5997362 0                    \n",
       "3  0                       1              -1.1132937 0                    \n",
       "4 -1                       1              -1.3694867 0                    \n",
       "5  1                       1              -0.8559292 0                    \n",
       "6  0                       0              -0.4285503 0                    \n",
       "  AI_Interaction_Level2 AI_Interaction_Level3 AI_Interaction_Level4\n",
       "1 0                     0                     0                    \n",
       "2 0                     1                     0                    \n",
       "3 0                     1                     0                    \n",
       "4 1                     0                     0                    \n",
       "5 0                     0                     1                    \n",
       "6 1                     0                     0                    \n",
       "  AI_Response_Time1 AI_Response_Time2 AI_Response_Time3\n",
       "1 1                 0                 0                \n",
       "2 0                 1                 0                \n",
       "3 0                 1                 0                \n",
       "4 1                 0                 0                \n",
       "5 0                 1                 0                \n",
       "6 0                 0                 1                "
      ]
     },
     "metadata": {},
     "output_type": "display_data"
    }
   ],
   "source": [
    "# Assume dummy_AIL and dummy_ART have been transformed the same way for the test data\n",
    "# Creating dummy variables for the test set, just like the training set\n",
    "\n",
    "test_data$AI_Interaction_Level <- as.factor(test_data$AI_Interaction_Level)\n",
    "test_data$AI_Response_Time <- as.factor(test_data$AI_Response_Time)\n",
    "dummy_AIL_test <- model.matrix(~ AI_Interaction_Level - 1, data=test_data)\n",
    "dummy_ART_test <- model.matrix(~ AI_Response_Time - 1, data=test_data)\n",
    "\n",
    "# Convert to data frames and ensure names match those in train_transformed\n",
    "dummy_AIL_test_df <- as.data.frame(dummy_AIL_test)\n",
    "names(dummy_AIL_test_df) <- make.names(names(dummy_AIL_test_df))\n",
    "dummy_ART_test_df <- as.data.frame(dummy_ART_test)\n",
    "names(dummy_ART_test_df) <- make.names(names(dummy_ART_test_df))\n",
    "\n",
    "# Combine with other test data (excluding original categorical variables)\n",
    "test_transformed <- cbind(test_data[, !(names(test_data) %in% c(\"AI_Interaction_Level\", \"AI_Response_Time\"))], dummy_AIL_test_df, dummy_ART_test_df)\n",
    "head(train_transformed)\n",
    "head(test_transformed)"
   ]
  },
  {
   "cell_type": "code",
   "execution_count": null,
   "id": "810cc471-c95e-4a8b-ab8b-1be22b01db1d",
   "metadata": {},
   "outputs": [],
   "source": []
  }
 ],
 "metadata": {
  "kernelspec": {
   "display_name": "R",
   "language": "R",
   "name": "ir"
  },
  "language_info": {
   "codemirror_mode": "r",
   "file_extension": ".r",
   "mimetype": "text/x-r-source",
   "name": "R",
   "pygments_lexer": "r",
   "version": "4.3.1"
  }
 },
 "nbformat": 4,
 "nbformat_minor": 5
}
