{
  "nbformat": 4,
  "nbformat_minor": 0,
  "metadata": {
    "colab": {
      "provenance": [],
      "authorship_tag": "ABX9TyO2XNmkVi0oa2wO5hIcwXXK",
      "include_colab_link": true
    },
    "kernelspec": {
      "name": "python3",
      "display_name": "Python 3"
    },
    "language_info": {
      "name": "python"
    }
  },
  "cells": [
    {
      "cell_type": "markdown",
      "metadata": {
        "id": "view-in-github",
        "colab_type": "text"
      },
      "source": [
        "<a href=\"https://colab.research.google.com/github/yoonha315/Project-Summary/blob/main/Case%20Competition%20Winter%202024_Vancouver%20Short%20Term%20Rental%20Market.ipynb\" target=\"_parent\"><img src=\"https://colab.research.google.com/assets/colab-badge.svg\" alt=\"Open In Colab\"/></a>"
      ]
    },
    {
      "cell_type": "markdown",
      "source": [
        "# Final Report: Sustainable Strategies for Vancouver’s Short-Term Rental Market"
      ],
      "metadata": {
        "id": "JE9useVfQSFp"
      }
    },
    {
      "cell_type": "markdown",
      "source": [
        "## 1. Introduction\n",
        "This report examines the impact of recent regulatory changes in Vancouver’s short-term rental market and proposes sustainable and profitable strategies for affected property owners. Vancouver has implemented stricter regulations as of May 2024, limiting short-term rentals to primary residences and strengthening enforcement measures. These changes aim to address housing affordability and availability concerns but pose challenges for property owners seeking viable rental options.\n",
        "\n",
        "This report presents a data-driven analysis of the issue, compares solutions implemented in similar global cities, and provides actionable recommendations that balance profitability with community goals. In particular, this study draws insights from the housing strategies of Vienna and Barcelona to inform potential solutions."
      ],
      "metadata": {
        "id": "x4NOgYz4RKpZ"
      }
    },
    {
      "cell_type": "markdown",
      "source": [
        "## 2. Problem Statement & Objectives\n",
        "The new regulations have significantly limited short-term rental opportunities in Vancouver. Many property owners must now seek alternative revenue-generating options while complying with the updated rules.\n",
        "\n",
        "The objective of this study is to develop sustainable alternatives—such as long-term leasing, boutique hotels, or co-living spaces—through a combination of historical data, market analysis, and feasibility assessments. The goal is to align these strategies with Vancouver’s broader housing affordability and community well-being objectives.\n",
        "\n",
        "#### Key Insights from Vancouver\n",
        "- **Significant Housing Demand:** Vancouver faces unmet housing needs among 86,000 existing households and anticipates demand from 50,000 new households over the next decade.\n",
        "- **Affordability Pressures:** High housing costs and low vacancy rates make Vancouver one of the most expensive housing markets, disproportionately affecting marginalized groups.\n",
        "- **Diverse Demographic Needs:** Various groups, such as Indigenous populations, lone parents, and seniors, face unique challenges, underscoring the need for inclusive housing solutions."
      ],
      "metadata": {
        "id": "HqH3G7xHRHuK"
      }
    },
    {
      "cell_type": "markdown",
      "source": [
        "## 3. Methodology / Approach\n",
        "#### Framework and Approach\n",
        "A comparative analysis of cities facing similar regulatory and market challenges was conducted. Two cities—Vienna and Barcelona—were selected due to their innovative housing policies and economic parallels with Vancouver.\n",
        "\n",
        "#### Key Assumptions\n",
        "- **Comparable Cost of Living:** Cities with high living costs and dense populations face similar market pressures, making comparisons relevant.\n",
        "- **Demographic and Economic Influences:** Factors such as household size, migration trends, and economic stability impact housing demand and policy effectiveness."
      ],
      "metadata": {
        "id": "sc6f2cpIRSlw"
      }
    },
    {
      "cell_type": "markdown",
      "source": [
        "## 4. Analysis & Findings\n",
        "#### Comparative Findings\n",
        "##### **Vienna, Austria**\n",
        "Vienna has successfully maintained housing affordability through extensive social and municipal housing programs.\n",
        "- **Key Strategies:**\n",
        "  - Rent-controlled apartments for mixed-income groups.\n",
        "  - Public ownership and management to maintain affordability.\n",
        "- **Effectiveness:** Stable rental prices, minimized market volatility, and high-quality, inclusive housing.\n",
        "- **Relevance to Vancouver:** Vancouver can adopt mixed-income housing developments and expand public or non-profit housing initiatives.\n",
        "\n",
        "##### **Barcelona, Spain**\n",
        "Barcelona has implemented strict short-term rental regulations and introduced incentives for long-term leasing.\n",
        "- **Key Strategies:**\n",
        "  - Licensing enforcement and penalties for illegal short-term rentals.\n",
        "  - Financial incentives for property owners to transition to long-term leases.\n",
        "- **Effectiveness:** Market stabilization, reduced speculative pressures, and improved housing availability.\n",
        "- **Relevance to Vancouver:** Implementing similar financial incentives and regulatory measures could help balance the market and prioritize local housing needs."
      ],
      "metadata": {
        "id": "kncPivjqRXRv"
      }
    },
    {
      "cell_type": "markdown",
      "source": [
        "## 5. Solution / Recommendations\n",
        "1. **Expand Affordable and Social Housing (Inspired by Vienna)**\n",
        "   - Develop 72,000 new homes over the next decade, with 50% designated for households earning under $80,000 annually.\n",
        "   - Expected Impact: Promotes inclusivity, reduces socio-economic segregation, and ensures long-term affordability.\n",
        "\n",
        "2. **Encourage Long-Term Leasing (Inspired by Barcelona)**\n",
        "   - Introduce financial incentives, such as grants or tax benefits, for property owners shifting to long-term leases.\n",
        "   - Expected Impact: Stabilizes the rental market and discourages illegal short-term rentals.\n",
        "\n",
        "3. **Mixed-Income and Diverse Housing Developments**\n",
        "   - Implement flexible zoning laws to allow for diverse housing options, including rental laneway homes and co-living spaces.\n",
        "   - Expected Impact: Supports population growth and accommodates varying demographic needs."
      ],
      "metadata": {
        "id": "JOyyvzBDQWSI"
      }
    },
    {
      "cell_type": "markdown",
      "source": [
        "## 6. Implementation Plan\n",
        "**Step 1: Collaborate with Local Housing Agencies and Developers**\n",
        "- **Actions:** Establish partnerships for mixed-income housing.\n",
        "- **Benefits:** Expands affordable housing, reduces market pressure, and promotes community cohesion.\n",
        "\n",
        "**Step 2: Provide Financial Incentives for Long-Term Rentals**\n",
        "- **Actions:** Offer grants, tax breaks, and simplified licensing processes.\n",
        "- **Benefits:** Encourages property owners to transition away from short-term rentals, stabilizing the market.\n",
        "\n",
        "**Step 3: Engage with Community Stakeholders**\n",
        "- **Actions:** Conduct public forums and implement transparent zoning changes.\n",
        "- **Benefits:** Builds public trust and ensures inclusive housing policies.\n",
        "\n",
        "**Potential Challenges & Mitigation Strategies**\n",
        "- **Resistance from Property Owners:** Addressed through financial incentives and transparent communication.\n",
        "- **High Costs of Compliance:** Streamlined licensing and administrative support to reduce burdens.\n"
      ],
      "metadata": {
        "id": "IvWZC7JzRiLb"
      }
    },
    {
      "cell_type": "markdown",
      "source": [
        "## 7. Conclusion\n",
        "The strategies outlined in this report draw on best practices from Vienna and Barcelona to propose actionable solutions for Vancouver’s evolving short-term rental market. By balancing affordability, community stability, and profitability, these recommendations offer a sustainable path forward for property owners and residents alike."
      ],
      "metadata": {
        "id": "Pcn0C96rRllo"
      }
    },
    {
      "cell_type": "markdown",
      "source": [
        "## Code"
      ],
      "metadata": {
        "id": "a0avPORxQPvG"
      }
    },
    {
      "cell_type": "markdown",
      "source": [
        "**Case Competition Winter 2024: Vancouver Short-Term Rental Market** can be found in the repository: [WIDS-Case-Competition](https://github.com/isobela/WIDS-Case-Competiton)."
      ],
      "metadata": {
        "id": "iBmyXL2tR2aO"
      }
    },
    {
      "cell_type": "code",
      "source": [],
      "metadata": {
        "id": "6JUxL1E_R2rk"
      },
      "execution_count": null,
      "outputs": []
    }
  ]
}