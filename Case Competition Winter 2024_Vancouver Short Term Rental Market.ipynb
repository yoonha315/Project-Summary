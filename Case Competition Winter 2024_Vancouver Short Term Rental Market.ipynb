{
  "nbformat": 4,
  "nbformat_minor": 0,
  "metadata": {
    "colab": {
      "provenance": [],
      "authorship_tag": "ABX9TyPPQ/DDoLVXkg8cSHPAE2HG",
      "include_colab_link": true
    },
    "kernelspec": {
      "name": "python3",
      "display_name": "Python 3"
    },
    "language_info": {
      "name": "python"
    }
  },
  "cells": [
    {
      "cell_type": "markdown",
      "metadata": {
        "id": "view-in-github",
        "colab_type": "text"
      },
      "source": [
        "<a href=\"https://colab.research.google.com/github/yoonha315/Project-Summary/blob/main/Case%20Competition%20Winter%202024_Vancouver%20Short%20Term%20Rental%20Market.ipynb\" target=\"_parent\"><img src=\"https://colab.research.google.com/assets/colab-badge.svg\" alt=\"Open In Colab\"/></a>"
      ]
    },
    {
      "cell_type": "markdown",
      "source": [
        "**Case Competition Winter 2024: Vancouver Short-Term Rental Market** can be found in the repository: [WIDS-Case-Competition](https://github.com/isobela/WIDS-Case-Competiton).\n"
      ],
      "metadata": {
        "id": "8PjdBF632Dj3"
      }
    }
  ]
}